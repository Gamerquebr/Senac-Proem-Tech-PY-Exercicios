{
  "nbformat": 4,
  "nbformat_minor": 0,
  "metadata": {
    "colab": {
      "provenance": [],
      "authorship_tag": "ABX9TyPogHUnEYgUzTl1S3QVagZQ",
      "include_colab_link": true
    },
    "kernelspec": {
      "name": "python3",
      "display_name": "Python 3"
    },
    "language_info": {
      "name": "python"
    }
  },
  "cells": [
    {
      "cell_type": "markdown",
      "metadata": {
        "id": "view-in-github",
        "colab_type": "text"
      },
      "source": [
        "<a href=\"https://colab.research.google.com/github/Gamerquebr/SenacProemTecPYExercicios/blob/main/Lista8.ipynb\" target=\"_parent\"><img src=\"https://colab.research.google.com/assets/colab-badge.svg\" alt=\"Open In Colab\"/></a>"
      ]
    },
    {
      "cell_type": "markdown",
      "source": [
        "Listas:\n",
        "\n",
        "a) Crie uma lista vazia e adicione 5 elementos a ela.\n",
        "\n",
        "b) Acesse o terceiro elemento da lista.\n",
        "\n",
        "c) Substitua o segundo elemento por um novo valor.\n",
        "\n",
        "d) Remova o último elemento da lista.\n",
        "\n",
        "e) Verifique se um elemento específico está presente na lista."
      ],
      "metadata": {
        "id": "AaBgzzWxAxq2"
      }
    },
    {
      "cell_type": "code",
      "execution_count": null,
      "metadata": {
        "colab": {
          "base_uri": "https://localhost:8080/"
        },
        "id": "J2OAg7KT_-3x",
        "outputId": "fcfdd74d-5807-47c5-d969-dbe102ae8ab8"
      },
      "outputs": [
        {
          "output_type": "stream",
          "name": "stdout",
          "text": [
            "3\n",
            "[1, 14, 3, 4]\n"
          ]
        }
      ],
      "source": [
        "lista = [1,2,3,4,5] #a\n",
        "\n",
        "print(lista[2]) #b\n",
        "\n",
        "lista[1] = 14 #c\n",
        "\n",
        "del lista[-1] #d\n",
        "\n",
        "if lista[-1] == 5: #e\n",
        "    print(\"Cinco está na lista\")\n",
        "\n",
        "print(lista) #f"
      ]
    },
    {
      "cell_type": "markdown",
      "source": [
        "Tuplas:\n",
        "\n",
        "a) Crie uma tupla com três elementos.\n",
        "\n",
        "b) Acesse o segundo elemento da tupla.\n",
        "\n",
        "c) Tente modificar um elemento da tupla e observe o resultado.\n",
        "\n",
        "d) Concatene duas tuplas.\n",
        "\n",
        "e) Converta uma tupla em lista."
      ],
      "metadata": {
        "id": "kunMpqXWA19V"
      }
    },
    {
      "cell_type": "code",
      "source": [
        "tupla = (1,2,3) #a\n",
        "\n",
        "print(tupla[1]) #b\n",
        "\n",
        "try: #c\n",
        "    tupla[1] = 2\n",
        "except:\n",
        "    print(\"Não tem como modificar tuplas\")\n",
        "\n",
        "tupla2 = (4,5,6) #d\n",
        "tupla3 = tupla2 + tupla\n",
        "print(tupla3)\n",
        "\n",
        "lista = list(tupla3) #e\n",
        "print(lista)"
      ],
      "metadata": {
        "colab": {
          "base_uri": "https://localhost:8080/"
        },
        "id": "xvvSCFKeAzhd",
        "outputId": "425aa809-e7ec-452a-a7d3-15c0244560c0"
      },
      "execution_count": null,
      "outputs": [
        {
          "output_type": "stream",
          "name": "stdout",
          "text": [
            "2\n",
            "Não tem como modificar tuplas\n",
            "(4, 5, 6, 1, 2, 3)\n",
            "[4, 5, 6, 1, 2, 3]\n"
          ]
        }
      ]
    },
    {
      "cell_type": "markdown",
      "source": [
        "Conjuntos:\n",
        "\n",
        "a) Crie dois conjuntos com alguns elementos.\n",
        "\n",
        "b) Verifique se um elemento está presente em um dos conjuntos.\n",
        "\n",
        "c) Realize a união dos dois conjuntos.\n",
        "\n",
        "d) Realize a interseção dos dois conjuntos.\n",
        "\n",
        "e) Remova um elemento de um conjunto."
      ],
      "metadata": {
        "id": "dBuSM1PIB0xU"
      }
    },
    {
      "cell_type": "code",
      "source": [
        "conj1 = {1,2,3} #a\n",
        "\n",
        "if 1 in conj1: #b\n",
        "    print(\"O número 1 está no conjunto\")\n",
        "\n",
        "conj2 = {4,5,6} #c\n",
        "conj3 = conj1.union(conj2)\n",
        "print(conj3)\n",
        "\n",
        "conj4 = {3,4,5,7,8,9,10} #d\n",
        "conj5 = conj3.intersection(conj4)\n",
        "print(conj5)\n",
        "\n",
        "conj5.remove(3) #e\n",
        "print(conj5)"
      ],
      "metadata": {
        "colab": {
          "base_uri": "https://localhost:8080/"
        },
        "id": "fP4JvKV1B1WU",
        "outputId": "bd605654-26a5-4a12-e4f1-67032aa630c8"
      },
      "execution_count": null,
      "outputs": [
        {
          "output_type": "stream",
          "name": "stdout",
          "text": [
            "O número 1 está no conjunto\n",
            "{1, 2, 3, 4, 5, 6}\n",
            "{3, 4, 5}\n",
            "{4, 5}\n"
          ]
        }
      ]
    },
    {
      "cell_type": "markdown",
      "source": [
        "Dicionários:\n",
        "\n",
        "a) Crie um dicionário com pelo menos três pares chave-valor.\n",
        "\n",
        "b) Acesse o valor correspondente a uma chave específica.\n",
        "\n",
        "c) Adicione um novo par chave-valor ao dicionário.\n",
        "\n",
        "d) Remova um par chave-valor do dicionário.\n",
        "\n",
        "e) Verifique se uma chave está presente no dicionário."
      ],
      "metadata": {
        "id": "q1Em07xcDc_0"
      }
    },
    {
      "cell_type": "code",
      "source": [
        "dic = {\"a\": 1, \"b\": 2, \"c\": 3} #a\n",
        "\n",
        "print(dic[\"a\"]) #b\n",
        "\n",
        "dic[\"d\"] = 4 #c\n",
        "\n",
        "del dic[\"a\"] #d\n",
        "\n",
        "if \"b\" in dic.keys(): #e\n",
        "    print(\"A chave 'b' Está no dicionário\")"
      ],
      "metadata": {
        "colab": {
          "base_uri": "https://localhost:8080/"
        },
        "id": "5D9Hm1xtDdku",
        "outputId": "59ec46cb-b485-4058-8159-406cfae1fc71"
      },
      "execution_count": null,
      "outputs": [
        {
          "output_type": "stream",
          "name": "stdout",
          "text": [
            "1\n",
            "A chave 'b' Está no dicionário\n"
          ]
        }
      ]
    },
    {
      "cell_type": "markdown",
      "source": [
        "Funções:\n",
        "\n",
        "a) Crie uma função que receba dois parâmetros e retorne a soma deles.\n",
        "\n",
        "b) Crie uma função que verifique se um número é par.\n",
        "\n",
        "c) Crie uma função que receba uma lista como parâmetro e retorne o maior elemento.\n",
        "\n",
        "d) Crie uma função que calcule a média de uma lista de números.\n",
        "\n",
        "e) Crie uma função que receba uma string e retorne o número de vogais presentes."
      ],
      "metadata": {
        "id": "bAi3_pyGEbpk"
      }
    },
    {
      "cell_type": "code",
      "source": [
        "def soma (x,y): #a\n",
        "    return x + y\n",
        "\n",
        "def par (x): #b\n",
        "    if x % 2 == 0:\n",
        "        print(\"É par :)\", end=\" \")\n",
        "        return True\n",
        "    else:\n",
        "        print(\"É ímpar :(\", end=\" \")\n",
        "        return False\n",
        "\n",
        "def maior (x): #c\n",
        "    maior = 0\n",
        "    for i in x:\n",
        "        if i > maior:\n",
        "            maior = i\n",
        "    return maior\n",
        "\n",
        "def media (x): #d\n",
        "    media = 0\n",
        "    for i in x:\n",
        "        media += i\n",
        "\n",
        "    media /= len(x)\n",
        "    return media\n",
        "\n",
        "def vogal (x): #e\n",
        "    vogais = {\"a\": 0,\"e\": 0,\"i\": 0,\"o\": 0,\"u\": 0}\n",
        "    for i in x.lower():\n",
        "        if i in vogais.keys():\n",
        "            vogais[i] += 1\n",
        "    return vogais\n",
        "\n",
        "print(\"Soma de x e y:\", soma(1,2))\n",
        "print(\"O número dois é:\", par(2))\n",
        "print(\"O maior número da lista [1,3,2] é: \", maior([1,3,2]))\n",
        "print(\"A média entre 2,3,4 é:\", media([2,3,4]))\n",
        "print(\"Existem no total essas vogais na frase 'lorem apsilium'\", vogal(\"Lorem Apsilium\"))"
      ],
      "metadata": {
        "id": "yPog1pADEcHs",
        "colab": {
          "base_uri": "https://localhost:8080/"
        },
        "outputId": "73fd82b6-6ebe-471c-bd97-ad973c14c83a"
      },
      "execution_count": null,
      "outputs": [
        {
          "output_type": "stream",
          "name": "stdout",
          "text": [
            "Soma de x e y: 3\n",
            "É par :) O número dois é:  True\n",
            "O maior número da lista [1,3,2] é:  3\n",
            "A média entre 2,3,4 é: 3.0\n",
            "Existem no total essas vogais na frase 'lorem apsilium' {'a': 1, 'e': 1, 'i': 2, 'o': 1, 'u': 1}\n"
          ]
        }
      ]
    },
    {
      "cell_type": "markdown",
      "source": [
        "Classes:\n",
        "\n",
        "a) Crie uma classe chamada \"Pessoa\" com atributos como nome, idade e profissão.\n",
        "\n",
        "b) Crie um objeto da classe \"Pessoa\" e acesse seus atributos.\n",
        "\n",
        "c) Crie um método na classe \"Pessoa\" para atualizar a idade.\n",
        "\n",
        "d) Crie uma classe derivada de \"Pessoa\" chamada \"Aluno\" com um atributo adicional como curso.\n",
        "\n",
        "e) Crie um objeto da classe \"Aluno\" e acesse os atributos herdados e adicionais."
      ],
      "metadata": {
        "id": "KQZIVhtjKjBV"
      }
    },
    {
      "cell_type": "code",
      "source": [
        "class Pessoa: #a\n",
        "    def __init__(self, nome, idade, profissao):\n",
        "        self.nome = str(nome)\n",
        "        self.idade = int(idade)\n",
        "        self.profissao = str(profissao)\n",
        "\n",
        "    def updt_idade (self, nova_idade): #c\n",
        "        self.idade = nova_idade\n",
        "        return\n",
        "jailson = Pessoa(\"Jailson Mendes\", 53, \"Mecânico\") #b\n",
        "print(jailson.nome, jailson.idade, jailson.profissao)\n",
        "jailson.updt_idade(54)\n",
        "print(jailson.nome, jailson.idade, jailson.profissao)\n",
        "\n",
        "class Aluno(Pessoa): #d\n",
        "    def __init__(self, nome, idade, profissao, curso):\n",
        "        super().__init__(nome, idade, profissao)\n",
        "        self.curso = curso\n",
        "\n",
        "zerin = Aluno(\"Zérin do Grau\", 17, \"Não informado\", \"Motorista de veículos de fuga\") #e\n",
        "print(zerin.nome, zerin.idade, zerin.profissao, zerin.curso)\n",
        "zerin.updt_idade(20)\n",
        "print(zerin.idade)"
      ],
      "metadata": {
        "colab": {
          "base_uri": "https://localhost:8080/"
        },
        "id": "hR4wPHh6KjmV",
        "outputId": "cddf591f-10fd-4e1d-bb98-9b229e836505"
      },
      "execution_count": null,
      "outputs": [
        {
          "output_type": "stream",
          "name": "stdout",
          "text": [
            "Jailson Mendes 53 Mecânico\n",
            "Jailson Mendes 54 Mecânico\n",
            "Zérin do Grau 17 Não informado Motorista de veículos de fuga\n",
            "20\n"
          ]
        }
      ]
    }
  ]
}