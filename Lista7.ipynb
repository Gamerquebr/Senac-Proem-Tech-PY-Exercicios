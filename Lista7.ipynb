{
  "nbformat": 4,
  "nbformat_minor": 0,
  "metadata": {
    "colab": {
      "provenance": [],
      "authorship_tag": "ABX9TyOMagbQmhv88eeUdZaFczkB",
      "include_colab_link": true
    },
    "kernelspec": {
      "name": "python3",
      "display_name": "Python 3"
    },
    "language_info": {
      "name": "python"
    }
  },
  "cells": [
    {
      "cell_type": "markdown",
      "metadata": {
        "id": "view-in-github",
        "colab_type": "text"
      },
      "source": [
        "<a href=\"https://colab.research.google.com/github/Gamerquebr/SenacProemTecPYExercicios/blob/main/Lista7.ipynb\" target=\"_parent\"><img src=\"https://colab.research.google.com/assets/colab-badge.svg\" alt=\"Open In Colab\"/></a>"
      ]
    },
    {
      "cell_type": "markdown",
      "source": [
        "Exercício 1: Retângulo\n",
        "Crie uma classe chamada Retangulo que represente um retângulo. A classe deve ter os seguintes métodos:\n",
        "\n",
        "Um método construtor init que recebe a largura e a altura do retângulo e os armazena como atributos do objeto. Um método calcular_area que retorna a área do retângulo (largura * altura). Um método calcular_perimetro que retorna o perímetro do retângulo (2 * largura + 2 * altura)."
      ],
      "metadata": {
        "id": "anNPEn1Hqf2g"
      }
    },
    {
      "cell_type": "code",
      "execution_count": null,
      "metadata": {
        "colab": {
          "base_uri": "https://localhost:8080/"
        },
        "id": "GdjaQEmrqcNv",
        "outputId": "3c69a602-e865-495b-c7d0-3ab8ac1d061c"
      },
      "outputs": [
        {
          "output_type": "stream",
          "name": "stdout",
          "text": [
            "8\n",
            "12\n"
          ]
        }
      ],
      "source": [
        "class Retangulo:\n",
        "    def __init__(self, largura, altura):\n",
        "        self.largura = largura\n",
        "        self.altura = altura\n",
        "\n",
        "    def calcular_area(self):\n",
        "        return self.altura * self.largura\n",
        "\n",
        "    def calcular_retangulo(self):\n",
        "        return 2 * self.altura + 2 * self.largura\n",
        "\n",
        "retangulo = Retangulo(2, 4)\n",
        "print(retangulo.calcular_area())\n",
        "print(retangulo.calcular_retangulo())"
      ]
    },
    {
      "cell_type": "markdown",
      "source": [
        "Exercício 2: Conta Bancária\n",
        "Crie uma classe chamada ContaBancaria que represente uma conta bancária. A classe deve ter os seguintes métodos:\n",
        "\n",
        "Um método construtor init que recebe o nome do titular da conta e o saldo inicial, e os armazena como atributos do objeto. Um método depositar que recebe um valor e adiciona esse valor ao saldo da conta. Um método sacar que recebe um valor e subtrai esse valor do saldo da conta. Um método obter_saldo que retorna o saldo atual da conta."
      ],
      "metadata": {
        "id": "IWhg0GCztmqc"
      }
    },
    {
      "cell_type": "code",
      "source": [
        "class ContaBancaria:\n",
        "    def __init__(self, nome, saldo):\n",
        "        self.nome = str(nome)\n",
        "        self.saldo = float(saldo)\n",
        "\n",
        "    def depositar(self, valor):\n",
        "\n",
        "        if valor < 0:\n",
        "            raise Exception(\"Transação inválida\")\n",
        "\n",
        "        self.saldo += valor\n",
        "        return\n",
        "\n",
        "    def sacar(self, valor):\n",
        "        if self.saldo - valor < 0:\n",
        "            raise Exception(\"Saldo negativo\")\n",
        "\n",
        "        self.saldo -= valor\n",
        "        return self.saldo\n",
        "\n",
        "    def obter_saldo(self):\n",
        "        return self.saldo\n",
        "\n",
        "conta = ContaBancaria(\"Astolfo\", 24.00)\n",
        "\n",
        "print(f\"Você tem: {conta.obter_saldo():.2f} R$\")\n",
        "print(f\"Você sacou: {conta.sacar(16.00):.2f} R$\")\n",
        "print(f\"Agora você tem: {conta.obter_saldo():.2f} R$\")\n",
        "\n",
        "conta.depositar(100)\n",
        "print(\"Você depositou 100.00 R$\")\n",
        "print(f\"Você ficou com: {conta.obter_saldo():.2f} R$\")"
      ],
      "metadata": {
        "colab": {
          "base_uri": "https://localhost:8080/"
        },
        "id": "jQOhaWTwto5s",
        "outputId": "e43eb0d1-2252-43ec-e4b9-3401eb9e08fc"
      },
      "execution_count": null,
      "outputs": [
        {
          "output_type": "stream",
          "name": "stdout",
          "text": [
            "Você tem: 24.00 R$\n",
            "Você sacou: 8.00 R$\n",
            "Agora você tem: 8.00 R$\n",
            "Você depositou 100.00 R$\n",
            "Você ficou com: 108.00 R$\n"
          ]
        }
      ]
    },
    {
      "cell_type": "markdown",
      "source": [
        "Exercício 3: Produto\n",
        "Crie uma classe chamada Produto que represente um produto em uma loja. A classe deve ter os seguintes métodos:\n",
        "\n",
        "Um método construtor init que recebe o nome, o preço e a quantidade do produto, e os armazena como atributos do objeto. Um método calcular_valor_total que retorna o valor total do produto (preço * quantidade). Um método aumentar_quantidade que recebe um valor e aumenta a quantidade do produto em determinada quantidade. Um método diminuir_quantidade que recebe um valor e diminui a quantidade do produto em determinada quantidade."
      ],
      "metadata": {
        "id": "N0_OO2LjySfA"
      }
    },
    {
      "cell_type": "code",
      "source": [
        "class Produto:\n",
        "    def __init__(self, nome, valor, quantidade):\n",
        "        self.nome = str(nome)\n",
        "        self.valor = float(valor)\n",
        "        self.quantidade = int(quantidade)\n",
        "\n",
        "    def calcular_valor_total(self):\n",
        "\n",
        "        return self.valor * self.quantidade\n",
        "\n",
        "    def aumentar_quantidade(self, num):\n",
        "\n",
        "        if num < 0:\n",
        "            raise Exception(\"Utilize 'diminuir_quantidade' se dejesa subtrair\")\n",
        "\n",
        "        self.quantidade += num\n",
        "        return self.quantidade\n",
        "\n",
        "    def diminuir_quantidade(self, num):\n",
        "\n",
        "        if self.quantidade < num:\n",
        "            raise Exception(\"Valor inválido\")\n",
        "\n",
        "        self.quantidade -= num\n",
        "        return self.quantidade\n",
        "\n",
        "produto = Produto(\"Sabonete\", 5.00, 1)\n",
        "\n",
        "print(f\"Você vai pagar: {produto.calcular_valor_total():.2f} R$\")\n",
        "print(f\"Você aumentou a quantidade em 2, agora você tem {produto.aumentar_quantidade(2)} produtos\")\n",
        "print(f\"Você vai pagar: {produto.calcular_valor_total():.2f} R$\")\n",
        "\n",
        "print(f\"Você diminuiu a quantidade em 1, agora você tem {produto.diminuir_quantidade(1)} produtos\")\n",
        "print(f\"Você vai pagar: {produto.calcular_valor_total():.2f} R$\")"
      ],
      "metadata": {
        "colab": {
          "base_uri": "https://localhost:8080/"
        },
        "id": "RUc-G-YMybr8",
        "outputId": "6cccc611-2cb6-46f4-8bac-3a1a0fa3f9be"
      },
      "execution_count": null,
      "outputs": [
        {
          "output_type": "stream",
          "name": "stdout",
          "text": [
            "Você vai pagar: 5.00 R$\n",
            "Você aumentou a quantidade em 2, agora você tem 3 produtos\n",
            "Você vai pagar: 15.00 R$\n",
            "Você diminuiu a quantidade em 1, agora você tem 2 produtos\n",
            "Você vai pagar: 10.00 R$\n"
          ]
        }
      ]
    }
  ]
}