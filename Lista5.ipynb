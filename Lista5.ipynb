{
  "nbformat": 4,
  "nbformat_minor": 0,
  "metadata": {
    "colab": {
      "provenance": [],
      "authorship_tag": "ABX9TyMAtSjv5j3ff6u+IFoeRTtG",
      "include_colab_link": true
    },
    "kernelspec": {
      "name": "python3",
      "display_name": "Python 3"
    },
    "language_info": {
      "name": "python"
    }
  },
  "cells": [
    {
      "cell_type": "markdown",
      "metadata": {
        "id": "view-in-github",
        "colab_type": "text"
      },
      "source": [
        "<a href=\"https://colab.research.google.com/github/Gamerquebr/SenacProemTecPYExercicios/blob/main/Lista5.ipynb\" target=\"_parent\"><img src=\"https://colab.research.google.com/assets/colab-badge.svg\" alt=\"Open In Colab\"/></a>"
      ]
    },
    {
      "cell_type": "markdown",
      "source": [
        "1. Listas:\n",
        "a) Crie uma lista vazia chamada \"numeros\".\n",
        "\n",
        "b) Adicione os números de 1 a 5 à lista \"numeros\".\n",
        "\n",
        "c) Acesse o terceiro elemento da lista \"numeros\".\n",
        "\n",
        "d) Adicione o número 6 ao final da lista \"numeros\".\n",
        "\n",
        "e) Remova o primeiro elemento da lista \"numeros\".\n",
        "\n",
        "f) Verifique se o número 3 está presente na lista \"numeros\".\n",
        "\n",
        "g) Conte quantas vezes o número 2 aparece na lista \"numeros\".\n",
        "\n",
        "h) Ordene a lista \"numeros\" em ordem decrescente."
      ],
      "metadata": {
        "id": "uCI_I1OKWUxG"
      }
    },
    {
      "cell_type": "code",
      "execution_count": null,
      "metadata": {
        "colab": {
          "base_uri": "https://localhost:8080/"
        },
        "id": "mfEZ3EbJWRkq",
        "outputId": "0ad98a43-f9d6-4a0b-8b1f-02366a679e8a"
      },
      "outputs": [
        {
          "output_type": "stream",
          "name": "stdout",
          "text": [
            "[1, 2, 3, 4, 5]\n",
            "3\n",
            "3 está na lista!\n",
            "O número dois aparece: 1 Vez!\n",
            "[6, 5, 4, 3, 2]\n"
          ]
        }
      ],
      "source": [
        "numeros = [] # A\n",
        "\n",
        "for i in range(1,6): # B\n",
        "  numeros.append(i)\n",
        "print(numeros)\n",
        "\n",
        "print(numeros[2]) # C\n",
        "\n",
        "numeros.append(6) # D\n",
        "\n",
        "del numeros[0] # E\n",
        "\n",
        "if 3 in numeros: # F\n",
        "  print(\"3 está na lista!\")\n",
        "\n",
        "print(\"O número dois aparece:\", numeros.count(2), \"Vez!\") # G\n",
        "\n",
        "numeros.sort(reverse=True) # H\n",
        "print(numeros)"
      ]
    },
    {
      "cell_type": "markdown",
      "source": [
        "2. Tuplas:\n",
        "a) Crie uma tupla chamada \"cores\" com três cores de sua escolha.\n",
        "\n",
        "b) Acesse o segundo elemento da tupla \"cores\".\n",
        "\n",
        "c) Tente modificar o primeiro elemento da tupla \"cores\" para uma cor diferente e observe o resultado.\n",
        "\n",
        "d) Verifique se a cor \"verde\" está presente na tupla \"cores\".\n",
        "\n",
        "e) Concatene a tupla \"cores\" com outra tupla contendo mais três cores.\n",
        "\n",
        "f) Converta a tupla \"cores\" em uma lista."
      ],
      "metadata": {
        "id": "K8IOtN3lYwhw"
      }
    },
    {
      "cell_type": "code",
      "source": [
        "cores = (\"Rosa\", \"Roxo\", \"Magenta\") # A\n",
        "\n",
        "print(cores[1]) # B\n",
        "\n",
        "try: # C\n",
        "  cores[0] = \"Lilás\"\n",
        "except:\n",
        "  print(\"Não é possível modificar tupples\")\n",
        "\n",
        "if \"Verde\" not in cores: # D\n",
        "  print(\"Verde não está na lista:\", cores)\n",
        "\n",
        "cores2 = cores + (\"Preto\", \"Cinza\", \"Verde Escuro\") # E\n",
        "print(cores2)\n",
        "\n",
        "coresL = list(cores2) # F\n",
        "print(coresL)"
      ],
      "metadata": {
        "colab": {
          "base_uri": "https://localhost:8080/"
        },
        "id": "xwR1EpCoYxPv",
        "outputId": "62853a26-5a24-4617-8a0b-7bfc8f09f236"
      },
      "execution_count": null,
      "outputs": [
        {
          "output_type": "stream",
          "name": "stdout",
          "text": [
            "Roxo\n",
            "Não é possível modificar tupples\n",
            "Verde não está na lista: ('Rosa', 'Roxo', 'Magenta')\n",
            "('Rosa', 'Roxo', 'Magenta', 'Preto', 'Cinza', 'Verde Escuro')\n",
            "['Rosa', 'Roxo', 'Magenta', 'Preto', 'Cinza', 'Verde Escuro']\n"
          ]
        }
      ]
    },
    {
      "cell_type": "markdown",
      "source": [
        "3. Conjuntos:\n",
        "a) Crie um conjunto chamado \"frutas\" com três frutas de sua escolha.\n",
        "\n",
        "b) Adicione uma nova fruta ao conjunto \"frutas\".\n",
        "\n",
        "c) Remova uma fruta do conjunto \"frutas\".\n",
        "\n",
        "d) Verifique o tamanho do conjunto \"frutas\".\n",
        "\n",
        "e) Crie um segundo conjunto chamado \"frutas2\" com algumas frutas em comum com o conjunto \"frutas\".\n",
        "\n",
        "f) Verifique se os conjuntos \"frutas\" e \"frutas2\" têm alguma fruta em comum."
      ],
      "metadata": {
        "id": "QRVvZs3bbA4Y"
      }
    },
    {
      "cell_type": "code",
      "source": [
        "frutas = {\"Banana\", \"Maçã\", \"Tomate\"} # A\n",
        "\n",
        "frutas.add(\"Laranja\") # B\n",
        "print(frutas)\n",
        "\n",
        "frutas.remove(\"Tomate\") # C\n",
        "print(frutas)\n",
        "\n",
        "print(\"Tamanho da lista é:\", len(frutas)) # D\n",
        "\n",
        "frutas2 = {\"Tomate\", \"Banana\", \"Cacau\"} # E\n",
        "print(frutas2)\n",
        "\n",
        "if frutas.intersection(frutas2) != set(): # F\n",
        "  print(\"Existem frutas em comum em ambas as listas!\")\n",
        "else:\n",
        "  print(\"Não existem frutas em comuns nas listas!\")\n"
      ],
      "metadata": {
        "colab": {
          "base_uri": "https://localhost:8080/"
        },
        "id": "lv-eY9qLbAcH",
        "outputId": "f656be8e-a242-4fe0-bd9d-1e60bc8e3943"
      },
      "execution_count": null,
      "outputs": [
        {
          "output_type": "stream",
          "name": "stdout",
          "text": [
            "{'Laranja', 'Maçã', 'Tomate', 'Banana'}\n",
            "{'Laranja', 'Maçã', 'Banana'}\n",
            "Tamanho da lista é: 3\n",
            "{'Banana', 'Cacau', 'Tomate'}\n",
            "Existem frutas em comum em ambas as listas!\n"
          ]
        }
      ]
    },
    {
      "cell_type": "markdown",
      "source": [
        "4. Dicionários:\n",
        "a) Crie um dicionário chamado \"pessoa\" com as chaves \"nome\" e \"idade\" e preencha com seus próprios dados.\n",
        "\n",
        "b) Acesse o valor da chave \"nome\" no dicionário \"pessoa\".\n",
        "\n",
        "c) Adicione uma nova chave-valor ao dicionário \"pessoa\", representando a sua cidade.\n",
        "\n",
        "d) Atualize o valor da chave \"idade\" no dicionário \"pessoa\".\n",
        "\n",
        "e) Remova a chave \"cidade\" do dicionário \"pessoa\".\n",
        "\n",
        "f) Verifique se a chave \"cidade\" ainda existe no dicionário \"pessoa\"."
      ],
      "metadata": {
        "id": "6w3R-IIRfIXm"
      }
    },
    {
      "cell_type": "code",
      "source": [
        "pessoa = {\"nome\": \"Marcelo\", \"idade\": 14, \"cidade\": \"Arroio Grande\"} # A\n",
        "print(pessoa)\n",
        "\n",
        "print(\"Nome da pessoa:\", pessoa[\"nome\"]) # B\n",
        "\n",
        "pessoa[\"cidade\"] = \"Arroio Grande\" # C\n",
        "print(pessoa)\n",
        "\n",
        "pessoa[\"idade\"] = 18 # D\n",
        "print(pessoa)\n",
        "\n",
        "del pessoa[\"cidade\"] # E\n",
        "print(pessoa)\n",
        "\n",
        "if \"cidade\" not in pessoa.keys(): #F\n",
        "  print(\"Cidade não localizada\")\n",
        "else:\n",
        "  print(\"Cidade está informada!\")\n",
        "\n",
        "print(pessoa)\n",
        "\n"
      ],
      "metadata": {
        "colab": {
          "base_uri": "https://localhost:8080/"
        },
        "id": "e6hOQwBbfNZP",
        "outputId": "cb32e473-682d-466e-bd86-6f40e52714a4"
      },
      "execution_count": null,
      "outputs": [
        {
          "output_type": "stream",
          "name": "stdout",
          "text": [
            "{'nome': 'Marcelo', 'idade': 14, 'cidade': 'Arroio Grande'}\n",
            "Nome da pessoa: Marcelo\n",
            "{'nome': 'Marcelo', 'idade': 14, 'cidade': 'Arroio Grande'}\n",
            "{'nome': 'Marcelo', 'idade': 18, 'cidade': 'Arroio Grande'}\n",
            "{'nome': 'Marcelo', 'idade': 18}\n",
            "Cidade não localizada\n",
            "{'nome': 'Marcelo', 'idade': 18}\n"
          ]
        }
      ]
    }
  ]
}