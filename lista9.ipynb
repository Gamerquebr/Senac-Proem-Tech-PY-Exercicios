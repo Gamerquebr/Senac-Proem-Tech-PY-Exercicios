{
  "nbformat": 4,
  "nbformat_minor": 0,
  "metadata": {
    "colab": {
      "provenance": [],
      "authorship_tag": "ABX9TyP5rmxW03i5lpk+lwMbM6GS",
      "include_colab_link": true
    },
    "kernelspec": {
      "name": "python3",
      "display_name": "Python 3"
    },
    "language_info": {
      "name": "python"
    }
  },
  "cells": [
    {
      "cell_type": "markdown",
      "metadata": {
        "id": "view-in-github",
        "colab_type": "text"
      },
      "source": [
        "<a href=\"https://colab.research.google.com/github/Gamerquebr/SenacProemTecPYExercicios/blob/main/lista9.ipynb\" target=\"_parent\"><img src=\"https://colab.research.google.com/assets/colab-badge.svg\" alt=\"Open In Colab\"/></a>"
      ]
    },
    {
      "cell_type": "code",
      "execution_count": null,
      "metadata": {
        "id": "JcUWjQ7MZo2e"
      },
      "outputs": [],
      "source": [
        "import pandas as pd"
      ]
    },
    {
      "cell_type": "markdown",
      "source": [
        "1. Dado o dataframe"
      ],
      "metadata": {
        "id": "KXguuOdRo_O2"
      }
    },
    {
      "cell_type": "code",
      "source": [
        "alunos = pd.DataFrame({'Nome': ['Ary', 'Cátia', 'Denis', 'Beto', 'Bruna', 'Dara', 'Carlos', 'Alice'],\n",
        "                        'Idade': [15, 27, 56, 32, 42, 21, 19, 35],\n",
        "                        'Notas': [7.5, 2.5, 5.0, 10, 8.2, 7, 6, 5.6],\n",
        "                        'Aprovado': [True, False, False, True, True, True, False, False]},\n",
        "                        columns = ['Nome', 'Idade', 'Notas', 'Aprovado'])"
      ],
      "metadata": {
        "id": "WunK5BOmaCwF"
      },
      "execution_count": null,
      "outputs": []
    },
    {
      "cell_type": "markdown",
      "source": [
        "a. Selecione somente os alunos aprovados (aprovado == true)"
      ],
      "metadata": {
        "id": "j_rOmxJIpCSV"
      }
    },
    {
      "cell_type": "code",
      "source": [
        "print(alunos[alunos['Aprovado'] == True])"
      ],
      "metadata": {
        "colab": {
          "base_uri": "https://localhost:8080/"
        },
        "id": "6wkXZetepGu-",
        "outputId": "a538a6bc-5d5a-4541-bdd7-d9cea8b94a32"
      },
      "execution_count": null,
      "outputs": [
        {
          "output_type": "stream",
          "name": "stdout",
          "text": [
            "    Nome  Idade  Notas  Aprovado\n",
            "0    Ary     15    7.5      True\n",
            "3   Beto     32   10.0      True\n",
            "4  Bruna     42    8.2      True\n",
            "5   Dara     21    7.0      True\n"
          ]
        }
      ]
    },
    {
      "cell_type": "markdown",
      "source": [
        "b. Selecione somente os alunos reprovados (aprovado == false)"
      ],
      "metadata": {
        "id": "SyIz5rBNpuHc"
      }
    },
    {
      "cell_type": "code",
      "source": [
        "print(alunos[alunos['Aprovado'] == False])"
      ],
      "metadata": {
        "colab": {
          "base_uri": "https://localhost:8080/"
        },
        "id": "_ScCsQ0_prwA",
        "outputId": "d3143f4a-0db9-41ff-ced2-5b0073d1eee2"
      },
      "execution_count": null,
      "outputs": [
        {
          "output_type": "stream",
          "name": "stdout",
          "text": [
            "     Nome  Idade  Notas  Aprovado\n",
            "1   Cátia     27    2.5     False\n",
            "2   Denis     56    5.0     False\n",
            "6  Carlos     19    6.0     False\n",
            "7   Alice     35    5.6     False\n"
          ]
        }
      ]
    },
    {
      "cell_type": "markdown",
      "source": [
        "c. Selecione os alunos com idade maior que 20 anos"
      ],
      "metadata": {
        "id": "VZBnVP3Dp1hf"
      }
    },
    {
      "cell_type": "code",
      "source": [
        "print(alunos[alunos['Idade'] > 20])"
      ],
      "metadata": {
        "colab": {
          "base_uri": "https://localhost:8080/"
        },
        "id": "XLOITrJCp2DW",
        "outputId": "354e3af5-d899-40b4-cbf7-e662b37f6d80"
      },
      "execution_count": null,
      "outputs": [
        {
          "output_type": "stream",
          "name": "stdout",
          "text": [
            "    Nome  Idade  Notas  Aprovado\n",
            "1  Cátia     27    2.5     False\n",
            "2  Denis     56    5.0     False\n",
            "3   Beto     32   10.0      True\n",
            "4  Bruna     42    8.2      True\n",
            "5   Dara     21    7.0      True\n",
            "7  Alice     35    5.6     False\n"
          ]
        }
      ]
    },
    {
      "cell_type": "markdown",
      "source": [
        "d. Calcule a média de idade"
      ],
      "metadata": {
        "id": "l6gMEDtLp_4O"
      }
    },
    {
      "cell_type": "code",
      "source": [
        "print(alunos['Notas'].mean())"
      ],
      "metadata": {
        "colab": {
          "base_uri": "https://localhost:8080/"
        },
        "id": "0vM5CpnNqAVa",
        "outputId": "4964d1bc-0f63-4e2c-a506-f5c805c1e54b"
      },
      "execution_count": null,
      "outputs": [
        {
          "output_type": "stream",
          "name": "stdout",
          "text": [
            "6.475\n"
          ]
        }
      ]
    },
    {
      "cell_type": "markdown",
      "source": [
        "e. Mostre a maior e menor nota"
      ],
      "metadata": {
        "id": "jsCPDOInqzlk"
      }
    },
    {
      "cell_type": "code",
      "source": [
        "print(alunos['Notas'].min())\n",
        "print(alunos['Notas'].max())"
      ],
      "metadata": {
        "colab": {
          "base_uri": "https://localhost:8080/"
        },
        "id": "sKEMq22FqzIa",
        "outputId": "5cbf17c1-de75-40d8-de9e-624d77128426"
      },
      "execution_count": null,
      "outputs": [
        {
          "output_type": "stream",
          "name": "stdout",
          "text": [
            "2.5\n",
            "10.0\n"
          ]
        }
      ]
    },
    {
      "cell_type": "markdown",
      "source": [
        "2. Dado o dataframe"
      ],
      "metadata": {
        "id": "DMW6ev2G9oyX"
      }
    },
    {
      "cell_type": "code",
      "source": [
        "dados = pd.DataFrame({\n",
        "                        'Nome': ['João', 'Maria', 'Pedro', 'Ana', 'Carlos'],\n",
        "                        'Idade': [25, 28, 21, 32, 35],\n",
        "                        'Cidade': ['São Paulo', 'Rio de Janeiro',\n",
        "                        'Belo Horizonte', 'São Paulo', 'Curitiba'],\n",
        "                        'Salário': [3500, 4200, 2800, 5000, 3800]\n",
        "})"
      ],
      "metadata": {
        "id": "kdEVeaUJ9oXm"
      },
      "execution_count": null,
      "outputs": []
    },
    {
      "cell_type": "markdown",
      "source": [
        "a. Exibir as últimas 3 linhas do DataFrame."
      ],
      "metadata": {
        "id": "GpficJEr-Cvx"
      }
    },
    {
      "cell_type": "code",
      "source": [
        "print(dados.tail(3))"
      ],
      "metadata": {
        "colab": {
          "base_uri": "https://localhost:8080/"
        },
        "id": "HOVH6SBI-Dea",
        "outputId": "1782c88e-5c43-4acb-9465-3000ef5afa3c"
      },
      "execution_count": null,
      "outputs": [
        {
          "output_type": "stream",
          "name": "stdout",
          "text": [
            "     Nome  Idade          Cidade  Salário\n",
            "2   Pedro     21  Belo Horizonte     2800\n",
            "3     Ana     32       São Paulo     5000\n",
            "4  Carlos     35        Curitiba     3800\n"
          ]
        }
      ]
    },
    {
      "cell_type": "markdown",
      "source": [
        "b. Calcular a mediana da coluna \"Idade\".\n",
        "\n"
      ],
      "metadata": {
        "id": "6nyEUwgb-no5"
      }
    },
    {
      "cell_type": "code",
      "source": [
        "print(dados['Idade'].median())"
      ],
      "metadata": {
        "colab": {
          "base_uri": "https://localhost:8080/"
        },
        "id": "DRipC23M-OFA",
        "outputId": "225af30a-b21c-47f5-d69d-0fa9bb32e27f"
      },
      "execution_count": null,
      "outputs": [
        {
          "output_type": "stream",
          "name": "stdout",
          "text": [
            "28.0\n"
          ]
        }
      ]
    },
    {
      "cell_type": "markdown",
      "source": [
        "c. Filtrar o DataFrame para exibir apenas as linhas em que a cidade seja \"São Paulo\"."
      ],
      "metadata": {
        "id": "YCIFWe8f-i2q"
      }
    },
    {
      "cell_type": "code",
      "source": [
        "print(dados[dados['Cidade'] == 'São Paulo'])"
      ],
      "metadata": {
        "colab": {
          "base_uri": "https://localhost:8080/"
        },
        "id": "WJxl93jD-sLx",
        "outputId": "6f3d5ea2-f96d-4cfc-e131-0683d677a246"
      },
      "execution_count": null,
      "outputs": [
        {
          "output_type": "stream",
          "name": "stdout",
          "text": [
            "   Nome  Idade     Cidade  Salário\n",
            "0  João     25  São Paulo     3500\n",
            "3   Ana     32  São Paulo     5000\n"
          ]
        }
      ]
    },
    {
      "cell_type": "markdown",
      "source": [
        "d. Ordenar o DataFrame em ordem decrescente com base no salário."
      ],
      "metadata": {
        "id": "_2L9qDe9_M7y"
      }
    },
    {
      "cell_type": "code",
      "source": [
        "print(dados.sort_values(by='Salário', ascending=[0]))"
      ],
      "metadata": {
        "colab": {
          "base_uri": "https://localhost:8080/"
        },
        "id": "gYbAlHtP_NcG",
        "outputId": "c3d20795-a6ed-41b9-c940-400a48a9704e"
      },
      "execution_count": null,
      "outputs": [
        {
          "output_type": "stream",
          "name": "stdout",
          "text": [
            "     Nome  Idade          Cidade  Salário\n",
            "3     Ana     32       São Paulo     5000\n",
            "1   Maria     28  Rio de Janeiro     4200\n",
            "4  Carlos     35        Curitiba     3800\n",
            "0    João     25       São Paulo     3500\n",
            "2   Pedro     21  Belo Horizonte     2800\n"
          ]
        }
      ]
    },
    {
      "cell_type": "markdown",
      "source": [
        "e. Adicionar uma nova coluna chamada \"Salário Anual\" ao DataFrame, que seja o salário multiplicado por 12."
      ],
      "metadata": {
        "id": "PggA4zE2_zcp"
      }
    },
    {
      "cell_type": "code",
      "source": [
        "salario_ano = {\"Salário Anual\": []}\n",
        "for i in dados[\"Salário\"]:\n",
        "    salario_ano[\"Salário Anual\"].append(i * 12)\n",
        "\n",
        "dados = pd.concat([dados, pd.DataFrame(salario_ano)], axis=1)\n",
        "print(dados)\n",
        "\n"
      ],
      "metadata": {
        "colab": {
          "base_uri": "https://localhost:8080/"
        },
        "id": "hmPPyMPi_38m",
        "outputId": "6835a484-0b73-44aa-8fc7-b66745a490d3"
      },
      "execution_count": null,
      "outputs": [
        {
          "output_type": "stream",
          "name": "stdout",
          "text": [
            "     Nome  Idade          Cidade  Salário  Salário Anual\n",
            "0    João     25       São Paulo     3500          42000\n",
            "1   Maria     28  Rio de Janeiro     4200          50400\n",
            "2   Pedro     21  Belo Horizonte     2800          33600\n",
            "3     Ana     32       São Paulo     5000          60000\n",
            "4  Carlos     35        Curitiba     3800          45600\n"
          ]
        }
      ]
    },
    {
      "cell_type": "markdown",
      "source": [
        "f. Calcular a média salarial por cidade."
      ],
      "metadata": {
        "id": "u0MZykD2HXte"
      }
    },
    {
      "cell_type": "code",
      "source": [
        "cidades = dados['Cidade'].unique()\n",
        "for i in cidades:\n",
        "    cidade = dados.loc[dados['Cidade'] == i]\n",
        "    media = cidade[\"Salário\"].mean()\n",
        "    print(f\"A média salárial da cidade {i} é: {media}\")"
      ],
      "metadata": {
        "colab": {
          "base_uri": "https://localhost:8080/"
        },
        "id": "sTghTWboHj6x",
        "outputId": "b60f6e2d-c192-4cb0-9184-6d3414f5bd23"
      },
      "execution_count": null,
      "outputs": [
        {
          "output_type": "stream",
          "name": "stdout",
          "text": [
            "A média salárial da cidade São Paulo é: 4250.0\n",
            "A média salárial da cidade Rio de Janeiro é: 4200.0\n",
            "A média salárial da cidade Belo Horizonte é: 2800.0\n",
            "A média salárial da cidade Curitiba é: 3800.0\n"
          ]
        }
      ]
    },
    {
      "cell_type": "markdown",
      "source": [
        "g. Remover a coluna \"Nome\" do DataFrame."
      ],
      "metadata": {
        "id": "asGi0Jc5KVj2"
      }
    },
    {
      "cell_type": "code",
      "source": [
        "dados = dados.drop(['Nome'], axis=1)\n",
        "print(dados)"
      ],
      "metadata": {
        "colab": {
          "base_uri": "https://localhost:8080/"
        },
        "id": "ngCmc_oAKYkO",
        "outputId": "023f1e4a-54d8-499a-cb25-f08f25011d94"
      },
      "execution_count": null,
      "outputs": [
        {
          "output_type": "stream",
          "name": "stdout",
          "text": [
            "   Idade          Cidade  Salário  Salário Anual\n",
            "0     25       São Paulo     3500          42000\n",
            "1     28  Rio de Janeiro     4200          50400\n",
            "2     21  Belo Horizonte     2800          33600\n",
            "3     32       São Paulo     5000          60000\n",
            "4     35        Curitiba     3800          45600\n"
          ]
        }
      ]
    }
  ]
}