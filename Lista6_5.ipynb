{
  "nbformat": 4,
  "nbformat_minor": 0,
  "metadata": {
    "colab": {
      "provenance": [],
      "authorship_tag": "ABX9TyNpGStZ8gvyy6rK1VI/t8J+",
      "include_colab_link": true
    },
    "kernelspec": {
      "name": "python3",
      "display_name": "Python 3"
    },
    "language_info": {
      "name": "python"
    }
  },
  "cells": [
    {
      "cell_type": "markdown",
      "metadata": {
        "id": "view-in-github",
        "colab_type": "text"
      },
      "source": [
        "<a href=\"https://colab.research.google.com/github/Gamerquebr/SenacProemTecPYExercicios/blob/main/Lista6_5.ipynb\" target=\"_parent\"><img src=\"https://colab.research.google.com/assets/colab-badge.svg\" alt=\"Open In Colab\"/></a>"
      ]
    },
    {
      "cell_type": "markdown",
      "source": [
        "1. Faça uma função que receba uma lista e exiba os elementos da última metade na frente dos elementos da primeira metade."
      ],
      "metadata": {
        "id": "Qf1-XYXB3LXN"
      }
    },
    {
      "cell_type": "code",
      "execution_count": null,
      "metadata": {
        "colab": {
          "base_uri": "https://localhost:8080/"
        },
        "id": "7p59UM3I3HZc",
        "outputId": "72bb0a37-e18c-4671-99c2-dba3bf838183"
      },
      "outputs": [
        {
          "output_type": "stream",
          "name": "stdout",
          "text": [
            "[4, 5, 6, 1, 2, 3]\n"
          ]
        }
      ],
      "source": [
        "def mover_ultima_metade(lista):\n",
        "    meio = len(lista) // 2\n",
        "    primeira_metade = lista[:meio]\n",
        "    segunda_metade = lista[meio:]\n",
        "    nova_lista = segunda_metade + primeira_metade\n",
        "    return nova_lista\n",
        "\n",
        "lista = [1,2,3,4,5,6]\n",
        "nova_lista = mover_ultima_metade(lista)\n",
        "print(nova_lista)"
      ]
    },
    {
      "cell_type": "markdown",
      "source": [
        "2. Escreva uma função que, dado o valor da conta de um restaurante, calcule e exiba a gorjeta do garçom, considerando 10% do valor da conta."
      ],
      "metadata": {
        "id": "5gvjr8QR3XTN"
      }
    },
    {
      "cell_type": "code",
      "source": [
        "def gorjetas(valor):\n",
        "  return valor * 0.10\n",
        "\n",
        "print(\"Por favor digite o valor pago\")\n",
        "print(f\"Você deve pagar {gorjetas(float(input(''))):.2f} R$ de gorjeta para o garçom\")"
      ],
      "metadata": {
        "colab": {
          "base_uri": "https://localhost:8080/"
        },
        "id": "Fn8xJ5tI3Z8f",
        "outputId": "77ba7a0e-dbc6-4b62-8515-509e44d6ec5f"
      },
      "execution_count": null,
      "outputs": [
        {
          "output_type": "stream",
          "name": "stdout",
          "text": [
            "Por favor digite o valor pago\n",
            "100\n",
            "Você deve pagar 10.00 R$ de gorjeta para o garçom\n"
          ]
        }
      ]
    },
    {
      "cell_type": "markdown",
      "source": [
        "3. Escreva uma funcão reps em Python que recebe uma lista e retorna uma outra lista contendo apenas os elementos que aparecem duas ou mais vezes na lista de entrada."
      ],
      "metadata": {
        "id": "jMCL6PkD41Ta"
      }
    },
    {
      "cell_type": "code",
      "source": [
        "def reps(lista):\n",
        "  listaR = []\n",
        "\n",
        "  for x in lista:\n",
        "    i = 0\n",
        "\n",
        "    if x in listaR:\n",
        "      continue\n",
        "\n",
        "    for y in lista:\n",
        "\n",
        "      if x == y:\n",
        "        i += 1\n",
        "\n",
        "      if i >= 2:\n",
        "        listaR.append(x)\n",
        "        break\n",
        "\n",
        "  return listaR\n",
        "\n",
        "lista = [1, 2, 2, 3, 3, 3, 4]\n",
        "\n",
        "repetidos = reps(lista)\n",
        "\n",
        "print(repetidos)"
      ],
      "metadata": {
        "colab": {
          "base_uri": "https://localhost:8080/"
        },
        "id": "MH9HvelZ44ua",
        "outputId": "ac430773-b95c-47a6-b131-696e0e6df3fd"
      },
      "execution_count": null,
      "outputs": [
        {
          "output_type": "stream",
          "name": "stdout",
          "text": [
            "[2, 3]\n"
          ]
        }
      ]
    },
    {
      "cell_type": "markdown",
      "source": [
        "4. Crie uma função que permita contar o número de vezes que aparece uma letra em uma string."
      ],
      "metadata": {
        "id": "ylpe_XVk7kz1"
      }
    },
    {
      "cell_type": "code",
      "source": [
        "def contar(texto, letra):\n",
        "  cont = 0\n",
        "\n",
        "  for letras in texto:\n",
        "\n",
        "    if letras == letra:\n",
        "      cont += 1\n",
        "\n",
        "  return cont\n",
        "\n",
        "texto = \"Lorem Apsilium\"\n",
        "letra = input(\"Me dê uma letra e falarei quantas vezes aparece em: '\"+texto+\"' \")\n",
        "\n",
        "print(f\"A letra '{letra}' aparece {contar(texto.lower(), letra.lower())} vezes no texto '{texto}'\")\n",
        "\n"
      ],
      "metadata": {
        "colab": {
          "base_uri": "https://localhost:8080/"
        },
        "id": "6qEHG_Xn7mb9",
        "outputId": "bc196af0-011a-49cb-b201-f676798a68ae"
      },
      "execution_count": null,
      "outputs": [
        {
          "output_type": "stream",
          "name": "stdout",
          "text": [
            "Me dê uma letra e falarei quantas vezes aparece em: 'Lorem Apsilium' y\n",
            "A letra 'y' aparece 0 vezes no texto 'Lorem Apsilium'\n"
          ]
        }
      ]
    }
  ]
}