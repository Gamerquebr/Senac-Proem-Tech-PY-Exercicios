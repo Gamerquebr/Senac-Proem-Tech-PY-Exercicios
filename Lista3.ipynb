{
  "nbformat": 4,
  "nbformat_minor": 0,
  "metadata": {
    "colab": {
      "provenance": [],
      "authorship_tag": "ABX9TyMDxKDu4x/Xruflh63Qk9K5",
      "include_colab_link": true
    },
    "kernelspec": {
      "name": "python3",
      "display_name": "Python 3"
    },
    "language_info": {
      "name": "python"
    }
  },
  "cells": [
    {
      "cell_type": "markdown",
      "metadata": {
        "id": "view-in-github",
        "colab_type": "text"
      },
      "source": [
        "<a href=\"https://colab.research.google.com/github/Gamerquebr/SenacProemTecPYExercicios/blob/main/Lista3.ipynb\" target=\"_parent\"><img src=\"https://colab.research.google.com/assets/colab-badge.svg\" alt=\"Open In Colab\"/></a>"
      ]
    },
    {
      "cell_type": "markdown",
      "source": [
        "Ver se o número é positivo ou negativo"
      ],
      "metadata": {
        "id": "E23bFA7Qm7JZ"
      }
    },
    {
      "cell_type": "code",
      "execution_count": null,
      "metadata": {
        "colab": {
          "base_uri": "https://localhost:8080/"
        },
        "id": "4Ao0XA_Xm4aF",
        "outputId": "4e90a7ee-ab2d-4287-fc48-f08c4b111af1"
      },
      "outputs": [
        {
          "output_type": "stream",
          "name": "stdout",
          "text": [
            "Me dê um número e eu direi se é positivo ou negativo: 0\n",
            "Positivo\n"
          ]
        }
      ],
      "source": [
        "x = int(input(\"Me dê um número e eu direi se é positivo ou negativo: \"))\n",
        "\n",
        "if x < 0:\n",
        "  print(\"Negativo\")\n",
        "else:\n",
        "  print(\"Positivo\")\n"
      ]
    },
    {
      "cell_type": "markdown",
      "source": [
        "1. Escreva um programa que pede ao usuário que digite um número e verifica se um número é par ou ímpar e imprime \"par\" ou \"impar\" respectivamente."
      ],
      "metadata": {
        "id": "HEOGrU2-oxSW"
      }
    },
    {
      "cell_type": "code",
      "source": [
        "x = int(input(\"Me dê um número e eu direi se é par ou ímpar: \"))\n",
        "\n",
        "if x % 2 == 0:\n",
        "  print(\"É par\")\n",
        "else:\n",
        "  print(\"É ímpar\")"
      ],
      "metadata": {
        "colab": {
          "base_uri": "https://localhost:8080/"
        },
        "id": "uKBwd-IroyZ-",
        "outputId": "292b4973-9fe7-4a49-f2df-cbe69a330017"
      },
      "execution_count": null,
      "outputs": [
        {
          "output_type": "stream",
          "name": "stdout",
          "text": [
            "Me dê um número e eu direi se é par ou ímpar: 11\n",
            "É ímpar\n"
          ]
        }
      ]
    },
    {
      "cell_type": "markdown",
      "source": [
        "2. Escreva um programa que solicita ao usuário um ano e verifique se ele é bissexto ou não. Regras para o ano bissexto: o ano deve ser divisível por 4."
      ],
      "metadata": {
        "id": "80GjU9B2pO5c"
      }
    },
    {
      "cell_type": "code",
      "source": [
        "x = int(input(\"Me dê quantos dias tem esse ano e direi se é bissexto: \"))\n",
        "if x % 4 == 0:\n",
        "  print(\"É bissexto!\")\n",
        "else:\n",
        "  print(\"Não é bissexto\")"
      ],
      "metadata": {
        "colab": {
          "base_uri": "https://localhost:8080/"
        },
        "id": "ISFyh1o2pQ1c",
        "outputId": "bf7ba454-ce70-40e1-ed72-2410d117f37c"
      },
      "execution_count": null,
      "outputs": [
        {
          "output_type": "stream",
          "name": "stdout",
          "text": [
            "Me dê quantos dias tem esse ano e direi se é bissexto: 2\n",
            "Não é bissexto\n"
          ]
        }
      ]
    },
    {
      "cell_type": "markdown",
      "source": [
        "3. Escreva um programa que solicita ao usuário um número e verifique se ele é múltiplo de 3 e/ou de 5."
      ],
      "metadata": {
        "id": "a7ZtqMU9qyk3"
      }
    },
    {
      "cell_type": "code",
      "source": [
        "x = int(input(\"Me dê um número e direi se é multiplo de 3 ou 5: \"))\n",
        "\n",
        "if x % 3 == 0:\n",
        "  print(\"É multiplo de 3\")\n",
        "elif x % 5 == 0:\n",
        "  print(\"É multiplo de 5\")\n",
        "else:\n",
        "  print(\"Não é multiplo de nenhum dos dois\")"
      ],
      "metadata": {
        "id": "pcJm_qhQq3y_"
      },
      "execution_count": null,
      "outputs": []
    },
    {
      "cell_type": "markdown",
      "source": [
        "4. Escreva um programa que solicita ao usuário um número de 1 a 7 e imprima o dia da semana correspondente."
      ],
      "metadata": {
        "id": "mQOPFewFrZiw"
      }
    },
    {
      "cell_type": "code",
      "source": [
        "x = int(input(\"Me dê um número de 1 a 7 e direi qual dia da semana representa: \"))\n",
        "\n",
        "semana = {1 : \"Domingo\",\n",
        "          2 : \"Segunda-feira\",\n",
        "          3 : \"Terça-feira\",\n",
        "          4 : \"Quarta-feira\",\n",
        "          5 : \"Quinta-feira\",\n",
        "          6 : \"Sexta-feira\",\n",
        "          7 : \"Domingo\"}\n",
        "\n",
        "if x < 1 or x > 7:\n",
        "  print(\"Número inválido\")\n",
        "else:\n",
        "  print(f\"Esse número representa {semana[x]}!\")"
      ],
      "metadata": {
        "colab": {
          "base_uri": "https://localhost:8080/"
        },
        "id": "x16GxYbfrbGL",
        "outputId": "5ac79381-ae36-4e6b-f42b-7d488c094fe0"
      },
      "execution_count": null,
      "outputs": [
        {
          "output_type": "stream",
          "name": "stdout",
          "text": [
            "Me dê um número de 1 a 7 e direi qual dia da semana representa: 0\n",
            "Número inválido\n"
          ]
        }
      ]
    },
    {
      "cell_type": "markdown",
      "source": [
        "Média do aluno\n"
      ],
      "metadata": {
        "id": "EWZZ4M8YwSOf"
      }
    },
    {
      "cell_type": "code",
      "source": [
        "media_do_aluno = float(input(\"Porfavor me dê a sua média: \"))\n",
        "\n",
        "if media_do_aluno > 10.0 or media_do_aluno < 0.0:\n",
        "  print(\"Número inválido\")\n",
        "elif media_do_aluno >= 6.0:\n",
        "  print(\"Aprovado :)\")\n",
        "elif media_do_aluno >= 3.0:\n",
        "  print(\"Exame :|\")\n",
        "else:\n",
        "  print(\"Reprovado :(\")"
      ],
      "metadata": {
        "colab": {
          "base_uri": "https://localhost:8080/"
        },
        "id": "6yg0GPeCwUTW",
        "outputId": "da34963c-81a4-4469-cd59-54a7f458dcb9"
      },
      "execution_count": null,
      "outputs": [
        {
          "output_type": "stream",
          "name": "stdout",
          "text": [
            "Porfavor me dê a sua média: 2.9\n",
            "Reprovado :(\n"
          ]
        }
      ]
    },
    {
      "cell_type": "code",
      "source": [
        "print(\"Me dê dois números positivos\")\n",
        "x = int(input(\": \"))\n",
        "y = int(input(\": \"))\n",
        "\n",
        "if x < 0 or y < 0:\n",
        "  print(\"Um dos números é negativo!\")\n",
        "elif y == 0:\n",
        "  print(\"Não é possível dividir por zero!\")\n",
        "else:\n",
        "  print(f\"Esse é o resultado: {x / y}\")"
      ],
      "metadata": {
        "colab": {
          "base_uri": "https://localhost:8080/"
        },
        "id": "bR2PPfUP4jYM",
        "outputId": "fdc249ce-7cdd-4ff6-f34d-8abfd844cc65"
      },
      "execution_count": null,
      "outputs": [
        {
          "output_type": "stream",
          "name": "stdout",
          "text": [
            "Me dê dois números positivos\n",
            ": 10\n",
            ": 0\n",
            "Não é possível dividir por zero!\n"
          ]
        }
      ]
    },
    {
      "cell_type": "markdown",
      "source": [
        "O maior entre eles"
      ],
      "metadata": {
        "id": "Orthevc-K3vN"
      }
    },
    {
      "cell_type": "code",
      "source": [
        "print(\"Me dê três números\")\n",
        "x = int(input(\"x: \"))\n",
        "y = int(input(\"y: \"))\n",
        "z = int(input(\"z: \"))\n",
        "\n",
        "lista = [x,y,z]\n",
        "maior = 0\n",
        "for i in range(3):\n",
        "    if maior < lista[i]:\n",
        "        maior = lista[i]\n",
        "\n",
        "print(f\"Esse é o maior número entre eles: {maior}\")"
      ],
      "metadata": {
        "colab": {
          "base_uri": "https://localhost:8080/"
        },
        "id": "B8LHukioK538",
        "outputId": "f5bdc8dd-a233-4619-92d9-9462da8578cd"
      },
      "execution_count": null,
      "outputs": [
        {
          "output_type": "stream",
          "name": "stdout",
          "text": [
            "Me dê três números\n",
            "x: -12312\n",
            "y: 1239482348\n",
            "z: 123423\n",
            "Esse é o maior número entre eles: 1239482348\n"
          ]
        }
      ]
    },
    {
      "cell_type": "markdown",
      "source": [
        "Calcular o consumo em KWH"
      ],
      "metadata": {
        "id": "9oXEfixv1Twu"
      }
    },
    {
      "cell_type": "code",
      "source": [
        "consumo = float(input(\"Me dê seu consumo em kwh: \"))\n",
        "\n",
        "\n",
        "tipo = input(\"Digite o tipo da instalação (R, C ou I): \").upper()\n",
        "if tipo not in [\"R\", \"C\", \"I\"]:\n",
        "  raise TypeError(\"ERRO! Instalação desconhecida\")\n",
        "\n",
        "# chave = tipo de instalação, valor = Tabela de preços\n",
        "tabela = {\n",
        "    \"R\" : 0.65 if consumo > 500 else 0.40,\n",
        "    \"C\" : 0.60 if consumo > 1000 else 0.55,\n",
        "    \"I\" : 0.60 if consumo > 5000 else 0.55\n",
        "}\n",
        "\n",
        "valor = consumo * tabela[tipo]\n",
        "\n",
        "print(f\"Esse é o valor que o senhor deve pagar: {valor:.2f} R$\")"
      ],
      "metadata": {
        "colab": {
          "base_uri": "https://localhost:8080/"
        },
        "id": "4BTzZr9FUElS",
        "outputId": "2005f3b4-6988-4ae7-f521-73ce1b1387fc"
      },
      "execution_count": null,
      "outputs": [
        {
          "output_type": "stream",
          "name": "stdout",
          "text": [
            "Me dê seu consumo em kwh: 919371\n",
            "Digite o tipo da instalação (R, C ou I): r\n",
            "Esse é o valor que o senhor deve pagar: 597591.15 R$\n"
          ]
        }
      ]
    }
  ]
}