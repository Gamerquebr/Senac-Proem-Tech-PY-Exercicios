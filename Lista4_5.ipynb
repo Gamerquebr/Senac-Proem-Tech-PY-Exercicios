{
  "nbformat": 4,
  "nbformat_minor": 0,
  "metadata": {
    "colab": {
      "provenance": [],
      "authorship_tag": "ABX9TyO7Un5bT5H6KJdS1dWkXurm",
      "include_colab_link": true
    },
    "kernelspec": {
      "name": "python3",
      "display_name": "Python 3"
    },
    "language_info": {
      "name": "python"
    }
  },
  "cells": [
    {
      "cell_type": "markdown",
      "metadata": {
        "id": "view-in-github",
        "colab_type": "text"
      },
      "source": [
        "<a href=\"https://colab.research.google.com/github/Gamerquebr/SenacProemTecPYExercicios/blob/main/Lista4_5.ipynb\" target=\"_parent\"><img src=\"https://colab.research.google.com/assets/colab-badge.svg\" alt=\"Open In Colab\"/></a>"
      ]
    },
    {
      "cell_type": "markdown",
      "source": [
        "1. Faça um programa que solicite o tamanho de um gene. Esse tamanho deve ser sempre maior do que zero e menor do que 10000. Mostre uma mensagem caso o valor seja inválido e continue pedindo até que o usuário informe um valor válido."
      ],
      "metadata": {
        "id": "8OdAlSky30Vm"
      }
    },
    {
      "cell_type": "code",
      "execution_count": null,
      "metadata": {
        "colab": {
          "base_uri": "https://localhost:8080/"
        },
        "id": "GtDDpjnf3xpp",
        "outputId": "e78b3e54-0bcd-4007-8304-a477565029bc"
      },
      "outputs": [
        {
          "output_type": "stream",
          "name": "stdout",
          "text": [
            "Me dê um tamanho de gene0\n",
            "Valor inválido, o valor deve ser maior que 0 e menor que 10000!\n",
            "Me dê um tamanho de gene1000000\n",
            "Valor inválido, o valor deve ser maior que 0 e menor que 10000!\n",
            "Me dê um tamanho de gene54\n",
            "Muito obrigado, valor registrado: 54\n"
          ]
        }
      ],
      "source": [
        "tamanho = int(input(\"Me dê um tamanho de gene: \"))\n",
        "while tamanho <= 0 or tamanho >= 10000:\n",
        "  print(\"Valor inválido, o valor deve ser maior que 0 e menor que 10000!\")\n",
        "  tamanho = int(input(\"Me dê um tamanho de gene\"))\n",
        "print(f\"Muito obrigado, valor registrado: {tamanho}\")"
      ]
    },
    {
      "cell_type": "code",
      "source": [],
      "metadata": {
        "id": "-msbbqgY40EH"
      },
      "execution_count": null,
      "outputs": []
    },
    {
      "cell_type": "markdown",
      "source": [
        "2. Faça um programa que imprima na tela apenas os números ímpares entre 1 e 50"
      ],
      "metadata": {
        "id": "VG0_NmUY46HU"
      }
    },
    {
      "cell_type": "code",
      "source": [
        "for i in range(1,50, 2):\n",
        "  print(i, end=\", \")"
      ],
      "metadata": {
        "colab": {
          "base_uri": "https://localhost:8080/"
        },
        "id": "8nrsKp_G4-Ck",
        "outputId": "f4c291a8-a337-4eed-d55b-72eb9ca34d2d"
      },
      "execution_count": null,
      "outputs": [
        {
          "output_type": "stream",
          "name": "stdout",
          "text": [
            "1, 3, 5, 7, 9, 11, 13, 15, 17, 19, 21, 23, 25, 27, 29, 31, 33, 35, 37, 39, 41, 43, 45, 47, 49, "
          ]
        }
      ]
    },
    {
      "cell_type": "markdown",
      "source": [
        "3. Faça um programa que verifique e mostre os tamanhos de genes entre 0 e 2.000 (inclusive) que, quando traduzidos em proteína (tamanho dividido por 3) produzam resto igual a 0. Imprima esses tamanhos com a seguinte mensagem: \" O gene com tamanho é traduzido em uma proteína com <numero/3> aminoácidos\""
      ],
      "metadata": {
        "id": "f0A9dj0A8Nhc"
      }
    },
    {
      "cell_type": "code",
      "source": [
        "for i in range(0,2001):\n",
        "  if (i / 3) % 3 == 0:\n",
        "    print(f\"O gene com tamanho {i} é traduzido em uma proteina com {int(i / 3)} aminoácidos\")"
      ],
      "metadata": {
        "colab": {
          "base_uri": "https://localhost:8080/"
        },
        "id": "-bn9qDIk8QSc",
        "outputId": "d55ee66c-122b-4eb9-8737-e5f6842dbd8d"
      },
      "execution_count": null,
      "outputs": [
        {
          "output_type": "stream",
          "name": "stdout",
          "text": [
            "O gene com tamanho 0 é traduzido em uma proteina com 0 aminoácidos\n",
            "O gene com tamanho 9 é traduzido em uma proteina com 3 aminoácidos\n",
            "O gene com tamanho 18 é traduzido em uma proteina com 6 aminoácidos\n",
            "O gene com tamanho 27 é traduzido em uma proteina com 9 aminoácidos\n",
            "O gene com tamanho 36 é traduzido em uma proteina com 12 aminoácidos\n",
            "O gene com tamanho 45 é traduzido em uma proteina com 15 aminoácidos\n",
            "O gene com tamanho 54 é traduzido em uma proteina com 18 aminoácidos\n",
            "O gene com tamanho 63 é traduzido em uma proteina com 21 aminoácidos\n",
            "O gene com tamanho 72 é traduzido em uma proteina com 24 aminoácidos\n",
            "O gene com tamanho 81 é traduzido em uma proteina com 27 aminoácidos\n",
            "O gene com tamanho 90 é traduzido em uma proteina com 30 aminoácidos\n",
            "O gene com tamanho 99 é traduzido em uma proteina com 33 aminoácidos\n",
            "O gene com tamanho 108 é traduzido em uma proteina com 36 aminoácidos\n",
            "O gene com tamanho 117 é traduzido em uma proteina com 39 aminoácidos\n",
            "O gene com tamanho 126 é traduzido em uma proteina com 42 aminoácidos\n",
            "O gene com tamanho 135 é traduzido em uma proteina com 45 aminoácidos\n",
            "O gene com tamanho 144 é traduzido em uma proteina com 48 aminoácidos\n",
            "O gene com tamanho 153 é traduzido em uma proteina com 51 aminoácidos\n",
            "O gene com tamanho 162 é traduzido em uma proteina com 54 aminoácidos\n",
            "O gene com tamanho 171 é traduzido em uma proteina com 57 aminoácidos\n",
            "O gene com tamanho 180 é traduzido em uma proteina com 60 aminoácidos\n",
            "O gene com tamanho 189 é traduzido em uma proteina com 63 aminoácidos\n",
            "O gene com tamanho 198 é traduzido em uma proteina com 66 aminoácidos\n",
            "O gene com tamanho 207 é traduzido em uma proteina com 69 aminoácidos\n",
            "O gene com tamanho 216 é traduzido em uma proteina com 72 aminoácidos\n",
            "O gene com tamanho 225 é traduzido em uma proteina com 75 aminoácidos\n",
            "O gene com tamanho 234 é traduzido em uma proteina com 78 aminoácidos\n",
            "O gene com tamanho 243 é traduzido em uma proteina com 81 aminoácidos\n",
            "O gene com tamanho 252 é traduzido em uma proteina com 84 aminoácidos\n",
            "O gene com tamanho 261 é traduzido em uma proteina com 87 aminoácidos\n",
            "O gene com tamanho 270 é traduzido em uma proteina com 90 aminoácidos\n",
            "O gene com tamanho 279 é traduzido em uma proteina com 93 aminoácidos\n",
            "O gene com tamanho 288 é traduzido em uma proteina com 96 aminoácidos\n",
            "O gene com tamanho 297 é traduzido em uma proteina com 99 aminoácidos\n",
            "O gene com tamanho 306 é traduzido em uma proteina com 102 aminoácidos\n",
            "O gene com tamanho 315 é traduzido em uma proteina com 105 aminoácidos\n",
            "O gene com tamanho 324 é traduzido em uma proteina com 108 aminoácidos\n",
            "O gene com tamanho 333 é traduzido em uma proteina com 111 aminoácidos\n",
            "O gene com tamanho 342 é traduzido em uma proteina com 114 aminoácidos\n",
            "O gene com tamanho 351 é traduzido em uma proteina com 117 aminoácidos\n",
            "O gene com tamanho 360 é traduzido em uma proteina com 120 aminoácidos\n",
            "O gene com tamanho 369 é traduzido em uma proteina com 123 aminoácidos\n",
            "O gene com tamanho 378 é traduzido em uma proteina com 126 aminoácidos\n",
            "O gene com tamanho 387 é traduzido em uma proteina com 129 aminoácidos\n",
            "O gene com tamanho 396 é traduzido em uma proteina com 132 aminoácidos\n",
            "O gene com tamanho 405 é traduzido em uma proteina com 135 aminoácidos\n",
            "O gene com tamanho 414 é traduzido em uma proteina com 138 aminoácidos\n",
            "O gene com tamanho 423 é traduzido em uma proteina com 141 aminoácidos\n",
            "O gene com tamanho 432 é traduzido em uma proteina com 144 aminoácidos\n",
            "O gene com tamanho 441 é traduzido em uma proteina com 147 aminoácidos\n",
            "O gene com tamanho 450 é traduzido em uma proteina com 150 aminoácidos\n",
            "O gene com tamanho 459 é traduzido em uma proteina com 153 aminoácidos\n",
            "O gene com tamanho 468 é traduzido em uma proteina com 156 aminoácidos\n",
            "O gene com tamanho 477 é traduzido em uma proteina com 159 aminoácidos\n",
            "O gene com tamanho 486 é traduzido em uma proteina com 162 aminoácidos\n",
            "O gene com tamanho 495 é traduzido em uma proteina com 165 aminoácidos\n",
            "O gene com tamanho 504 é traduzido em uma proteina com 168 aminoácidos\n",
            "O gene com tamanho 513 é traduzido em uma proteina com 171 aminoácidos\n",
            "O gene com tamanho 522 é traduzido em uma proteina com 174 aminoácidos\n",
            "O gene com tamanho 531 é traduzido em uma proteina com 177 aminoácidos\n",
            "O gene com tamanho 540 é traduzido em uma proteina com 180 aminoácidos\n",
            "O gene com tamanho 549 é traduzido em uma proteina com 183 aminoácidos\n",
            "O gene com tamanho 558 é traduzido em uma proteina com 186 aminoácidos\n",
            "O gene com tamanho 567 é traduzido em uma proteina com 189 aminoácidos\n",
            "O gene com tamanho 576 é traduzido em uma proteina com 192 aminoácidos\n",
            "O gene com tamanho 585 é traduzido em uma proteina com 195 aminoácidos\n",
            "O gene com tamanho 594 é traduzido em uma proteina com 198 aminoácidos\n",
            "O gene com tamanho 603 é traduzido em uma proteina com 201 aminoácidos\n",
            "O gene com tamanho 612 é traduzido em uma proteina com 204 aminoácidos\n",
            "O gene com tamanho 621 é traduzido em uma proteina com 207 aminoácidos\n",
            "O gene com tamanho 630 é traduzido em uma proteina com 210 aminoácidos\n",
            "O gene com tamanho 639 é traduzido em uma proteina com 213 aminoácidos\n",
            "O gene com tamanho 648 é traduzido em uma proteina com 216 aminoácidos\n",
            "O gene com tamanho 657 é traduzido em uma proteina com 219 aminoácidos\n",
            "O gene com tamanho 666 é traduzido em uma proteina com 222 aminoácidos\n",
            "O gene com tamanho 675 é traduzido em uma proteina com 225 aminoácidos\n",
            "O gene com tamanho 684 é traduzido em uma proteina com 228 aminoácidos\n",
            "O gene com tamanho 693 é traduzido em uma proteina com 231 aminoácidos\n",
            "O gene com tamanho 702 é traduzido em uma proteina com 234 aminoácidos\n",
            "O gene com tamanho 711 é traduzido em uma proteina com 237 aminoácidos\n",
            "O gene com tamanho 720 é traduzido em uma proteina com 240 aminoácidos\n",
            "O gene com tamanho 729 é traduzido em uma proteina com 243 aminoácidos\n",
            "O gene com tamanho 738 é traduzido em uma proteina com 246 aminoácidos\n",
            "O gene com tamanho 747 é traduzido em uma proteina com 249 aminoácidos\n",
            "O gene com tamanho 756 é traduzido em uma proteina com 252 aminoácidos\n",
            "O gene com tamanho 765 é traduzido em uma proteina com 255 aminoácidos\n",
            "O gene com tamanho 774 é traduzido em uma proteina com 258 aminoácidos\n",
            "O gene com tamanho 783 é traduzido em uma proteina com 261 aminoácidos\n",
            "O gene com tamanho 792 é traduzido em uma proteina com 264 aminoácidos\n",
            "O gene com tamanho 801 é traduzido em uma proteina com 267 aminoácidos\n",
            "O gene com tamanho 810 é traduzido em uma proteina com 270 aminoácidos\n",
            "O gene com tamanho 819 é traduzido em uma proteina com 273 aminoácidos\n",
            "O gene com tamanho 828 é traduzido em uma proteina com 276 aminoácidos\n",
            "O gene com tamanho 837 é traduzido em uma proteina com 279 aminoácidos\n",
            "O gene com tamanho 846 é traduzido em uma proteina com 282 aminoácidos\n",
            "O gene com tamanho 855 é traduzido em uma proteina com 285 aminoácidos\n",
            "O gene com tamanho 864 é traduzido em uma proteina com 288 aminoácidos\n",
            "O gene com tamanho 873 é traduzido em uma proteina com 291 aminoácidos\n",
            "O gene com tamanho 882 é traduzido em uma proteina com 294 aminoácidos\n",
            "O gene com tamanho 891 é traduzido em uma proteina com 297 aminoácidos\n",
            "O gene com tamanho 900 é traduzido em uma proteina com 300 aminoácidos\n",
            "O gene com tamanho 909 é traduzido em uma proteina com 303 aminoácidos\n",
            "O gene com tamanho 918 é traduzido em uma proteina com 306 aminoácidos\n",
            "O gene com tamanho 927 é traduzido em uma proteina com 309 aminoácidos\n",
            "O gene com tamanho 936 é traduzido em uma proteina com 312 aminoácidos\n",
            "O gene com tamanho 945 é traduzido em uma proteina com 315 aminoácidos\n",
            "O gene com tamanho 954 é traduzido em uma proteina com 318 aminoácidos\n",
            "O gene com tamanho 963 é traduzido em uma proteina com 321 aminoácidos\n",
            "O gene com tamanho 972 é traduzido em uma proteina com 324 aminoácidos\n",
            "O gene com tamanho 981 é traduzido em uma proteina com 327 aminoácidos\n",
            "O gene com tamanho 990 é traduzido em uma proteina com 330 aminoácidos\n",
            "O gene com tamanho 999 é traduzido em uma proteina com 333 aminoácidos\n",
            "O gene com tamanho 1008 é traduzido em uma proteina com 336 aminoácidos\n",
            "O gene com tamanho 1017 é traduzido em uma proteina com 339 aminoácidos\n",
            "O gene com tamanho 1026 é traduzido em uma proteina com 342 aminoácidos\n",
            "O gene com tamanho 1035 é traduzido em uma proteina com 345 aminoácidos\n",
            "O gene com tamanho 1044 é traduzido em uma proteina com 348 aminoácidos\n",
            "O gene com tamanho 1053 é traduzido em uma proteina com 351 aminoácidos\n",
            "O gene com tamanho 1062 é traduzido em uma proteina com 354 aminoácidos\n",
            "O gene com tamanho 1071 é traduzido em uma proteina com 357 aminoácidos\n",
            "O gene com tamanho 1080 é traduzido em uma proteina com 360 aminoácidos\n",
            "O gene com tamanho 1089 é traduzido em uma proteina com 363 aminoácidos\n",
            "O gene com tamanho 1098 é traduzido em uma proteina com 366 aminoácidos\n",
            "O gene com tamanho 1107 é traduzido em uma proteina com 369 aminoácidos\n",
            "O gene com tamanho 1116 é traduzido em uma proteina com 372 aminoácidos\n",
            "O gene com tamanho 1125 é traduzido em uma proteina com 375 aminoácidos\n",
            "O gene com tamanho 1134 é traduzido em uma proteina com 378 aminoácidos\n",
            "O gene com tamanho 1143 é traduzido em uma proteina com 381 aminoácidos\n",
            "O gene com tamanho 1152 é traduzido em uma proteina com 384 aminoácidos\n",
            "O gene com tamanho 1161 é traduzido em uma proteina com 387 aminoácidos\n",
            "O gene com tamanho 1170 é traduzido em uma proteina com 390 aminoácidos\n",
            "O gene com tamanho 1179 é traduzido em uma proteina com 393 aminoácidos\n",
            "O gene com tamanho 1188 é traduzido em uma proteina com 396 aminoácidos\n",
            "O gene com tamanho 1197 é traduzido em uma proteina com 399 aminoácidos\n",
            "O gene com tamanho 1206 é traduzido em uma proteina com 402 aminoácidos\n",
            "O gene com tamanho 1215 é traduzido em uma proteina com 405 aminoácidos\n",
            "O gene com tamanho 1224 é traduzido em uma proteina com 408 aminoácidos\n",
            "O gene com tamanho 1233 é traduzido em uma proteina com 411 aminoácidos\n",
            "O gene com tamanho 1242 é traduzido em uma proteina com 414 aminoácidos\n",
            "O gene com tamanho 1251 é traduzido em uma proteina com 417 aminoácidos\n",
            "O gene com tamanho 1260 é traduzido em uma proteina com 420 aminoácidos\n",
            "O gene com tamanho 1269 é traduzido em uma proteina com 423 aminoácidos\n",
            "O gene com tamanho 1278 é traduzido em uma proteina com 426 aminoácidos\n",
            "O gene com tamanho 1287 é traduzido em uma proteina com 429 aminoácidos\n",
            "O gene com tamanho 1296 é traduzido em uma proteina com 432 aminoácidos\n",
            "O gene com tamanho 1305 é traduzido em uma proteina com 435 aminoácidos\n",
            "O gene com tamanho 1314 é traduzido em uma proteina com 438 aminoácidos\n",
            "O gene com tamanho 1323 é traduzido em uma proteina com 441 aminoácidos\n",
            "O gene com tamanho 1332 é traduzido em uma proteina com 444 aminoácidos\n",
            "O gene com tamanho 1341 é traduzido em uma proteina com 447 aminoácidos\n",
            "O gene com tamanho 1350 é traduzido em uma proteina com 450 aminoácidos\n",
            "O gene com tamanho 1359 é traduzido em uma proteina com 453 aminoácidos\n",
            "O gene com tamanho 1368 é traduzido em uma proteina com 456 aminoácidos\n",
            "O gene com tamanho 1377 é traduzido em uma proteina com 459 aminoácidos\n",
            "O gene com tamanho 1386 é traduzido em uma proteina com 462 aminoácidos\n",
            "O gene com tamanho 1395 é traduzido em uma proteina com 465 aminoácidos\n",
            "O gene com tamanho 1404 é traduzido em uma proteina com 468 aminoácidos\n",
            "O gene com tamanho 1413 é traduzido em uma proteina com 471 aminoácidos\n",
            "O gene com tamanho 1422 é traduzido em uma proteina com 474 aminoácidos\n",
            "O gene com tamanho 1431 é traduzido em uma proteina com 477 aminoácidos\n",
            "O gene com tamanho 1440 é traduzido em uma proteina com 480 aminoácidos\n",
            "O gene com tamanho 1449 é traduzido em uma proteina com 483 aminoácidos\n",
            "O gene com tamanho 1458 é traduzido em uma proteina com 486 aminoácidos\n",
            "O gene com tamanho 1467 é traduzido em uma proteina com 489 aminoácidos\n",
            "O gene com tamanho 1476 é traduzido em uma proteina com 492 aminoácidos\n",
            "O gene com tamanho 1485 é traduzido em uma proteina com 495 aminoácidos\n",
            "O gene com tamanho 1494 é traduzido em uma proteina com 498 aminoácidos\n",
            "O gene com tamanho 1503 é traduzido em uma proteina com 501 aminoácidos\n",
            "O gene com tamanho 1512 é traduzido em uma proteina com 504 aminoácidos\n",
            "O gene com tamanho 1521 é traduzido em uma proteina com 507 aminoácidos\n",
            "O gene com tamanho 1530 é traduzido em uma proteina com 510 aminoácidos\n",
            "O gene com tamanho 1539 é traduzido em uma proteina com 513 aminoácidos\n",
            "O gene com tamanho 1548 é traduzido em uma proteina com 516 aminoácidos\n",
            "O gene com tamanho 1557 é traduzido em uma proteina com 519 aminoácidos\n",
            "O gene com tamanho 1566 é traduzido em uma proteina com 522 aminoácidos\n",
            "O gene com tamanho 1575 é traduzido em uma proteina com 525 aminoácidos\n",
            "O gene com tamanho 1584 é traduzido em uma proteina com 528 aminoácidos\n",
            "O gene com tamanho 1593 é traduzido em uma proteina com 531 aminoácidos\n",
            "O gene com tamanho 1602 é traduzido em uma proteina com 534 aminoácidos\n",
            "O gene com tamanho 1611 é traduzido em uma proteina com 537 aminoácidos\n",
            "O gene com tamanho 1620 é traduzido em uma proteina com 540 aminoácidos\n",
            "O gene com tamanho 1629 é traduzido em uma proteina com 543 aminoácidos\n",
            "O gene com tamanho 1638 é traduzido em uma proteina com 546 aminoácidos\n",
            "O gene com tamanho 1647 é traduzido em uma proteina com 549 aminoácidos\n",
            "O gene com tamanho 1656 é traduzido em uma proteina com 552 aminoácidos\n",
            "O gene com tamanho 1665 é traduzido em uma proteina com 555 aminoácidos\n",
            "O gene com tamanho 1674 é traduzido em uma proteina com 558 aminoácidos\n",
            "O gene com tamanho 1683 é traduzido em uma proteina com 561 aminoácidos\n",
            "O gene com tamanho 1692 é traduzido em uma proteina com 564 aminoácidos\n",
            "O gene com tamanho 1701 é traduzido em uma proteina com 567 aminoácidos\n",
            "O gene com tamanho 1710 é traduzido em uma proteina com 570 aminoácidos\n",
            "O gene com tamanho 1719 é traduzido em uma proteina com 573 aminoácidos\n",
            "O gene com tamanho 1728 é traduzido em uma proteina com 576 aminoácidos\n",
            "O gene com tamanho 1737 é traduzido em uma proteina com 579 aminoácidos\n",
            "O gene com tamanho 1746 é traduzido em uma proteina com 582 aminoácidos\n",
            "O gene com tamanho 1755 é traduzido em uma proteina com 585 aminoácidos\n",
            "O gene com tamanho 1764 é traduzido em uma proteina com 588 aminoácidos\n",
            "O gene com tamanho 1773 é traduzido em uma proteina com 591 aminoácidos\n",
            "O gene com tamanho 1782 é traduzido em uma proteina com 594 aminoácidos\n",
            "O gene com tamanho 1791 é traduzido em uma proteina com 597 aminoácidos\n",
            "O gene com tamanho 1800 é traduzido em uma proteina com 600 aminoácidos\n",
            "O gene com tamanho 1809 é traduzido em uma proteina com 603 aminoácidos\n",
            "O gene com tamanho 1818 é traduzido em uma proteina com 606 aminoácidos\n",
            "O gene com tamanho 1827 é traduzido em uma proteina com 609 aminoácidos\n",
            "O gene com tamanho 1836 é traduzido em uma proteina com 612 aminoácidos\n",
            "O gene com tamanho 1845 é traduzido em uma proteina com 615 aminoácidos\n",
            "O gene com tamanho 1854 é traduzido em uma proteina com 618 aminoácidos\n",
            "O gene com tamanho 1863 é traduzido em uma proteina com 621 aminoácidos\n",
            "O gene com tamanho 1872 é traduzido em uma proteina com 624 aminoácidos\n",
            "O gene com tamanho 1881 é traduzido em uma proteina com 627 aminoácidos\n",
            "O gene com tamanho 1890 é traduzido em uma proteina com 630 aminoácidos\n",
            "O gene com tamanho 1899 é traduzido em uma proteina com 633 aminoácidos\n",
            "O gene com tamanho 1908 é traduzido em uma proteina com 636 aminoácidos\n",
            "O gene com tamanho 1917 é traduzido em uma proteina com 639 aminoácidos\n",
            "O gene com tamanho 1926 é traduzido em uma proteina com 642 aminoácidos\n",
            "O gene com tamanho 1935 é traduzido em uma proteina com 645 aminoácidos\n",
            "O gene com tamanho 1944 é traduzido em uma proteina com 648 aminoácidos\n",
            "O gene com tamanho 1953 é traduzido em uma proteina com 651 aminoácidos\n",
            "O gene com tamanho 1962 é traduzido em uma proteina com 654 aminoácidos\n",
            "O gene com tamanho 1971 é traduzido em uma proteina com 657 aminoácidos\n",
            "O gene com tamanho 1980 é traduzido em uma proteina com 660 aminoácidos\n",
            "O gene com tamanho 1989 é traduzido em uma proteina com 663 aminoácidos\n",
            "O gene com tamanho 1998 é traduzido em uma proteina com 666 aminoácidos\n"
          ]
        }
      ]
    }
  ]
}