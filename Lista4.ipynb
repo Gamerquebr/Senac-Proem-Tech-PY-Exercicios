{
  "nbformat": 4,
  "nbformat_minor": 0,
  "metadata": {
    "colab": {
      "provenance": [],
      "authorship_tag": "ABX9TyNRvoW+eJKT/IcGfMUc2G7v",
      "include_colab_link": true
    },
    "kernelspec": {
      "name": "python3",
      "display_name": "Python 3"
    },
    "language_info": {
      "name": "python"
    }
  },
  "cells": [
    {
      "cell_type": "markdown",
      "metadata": {
        "id": "view-in-github",
        "colab_type": "text"
      },
      "source": [
        "<a href=\"https://colab.research.google.com/github/Gamerquebr/SenacProemTecPYExercicios/blob/main/Lista4.ipynb\" target=\"_parent\"><img src=\"https://colab.research.google.com/assets/colab-badge.svg\" alt=\"Open In Colab\"/></a>"
      ]
    },
    {
      "cell_type": "markdown",
      "source": [
        "1. Faça um programa que receba a idade de uma pessoa e imprima se ela é maior ou menor de idade."
      ],
      "metadata": {
        "id": "teXIaVfTFAJA"
      }
    },
    {
      "cell_type": "code",
      "source": [
        "idade = int(input(\"Por favor me dê sua idade: \"))\n",
        "print(\"Menor de idade\") if idade < 18 else print(\"Maior de idade\")"
      ],
      "metadata": {
        "colab": {
          "base_uri": "https://localhost:8080/"
        },
        "id": "SCSevFzyFBEX",
        "outputId": "d31478e2-092d-465d-a604-7ca886b5d2bc"
      },
      "execution_count": null,
      "outputs": [
        {
          "output_type": "stream",
          "name": "stdout",
          "text": [
            "Por favor me dê sua idade: 18\n",
            "Maior de idade\n"
          ]
        }
      ]
    },
    {
      "cell_type": "markdown",
      "source": [
        "2. Faça um programa que calcule a média aritmética de três números. E se atribuirmos pesos 2, 3 e 5 para os numeros 1, 2 e 3 respectivamente, qual é o valor da média ponderada?"
      ],
      "metadata": {
        "id": "YTC2ButuF7Lu"
      }
    },
    {
      "cell_type": "code",
      "source": [
        "x = 2\n",
        "y = 3\n",
        "z = 5\n",
        "média = (x+y+z) / 3\n",
        "print(\"Média: \", média)"
      ],
      "metadata": {
        "colab": {
          "base_uri": "https://localhost:8080/"
        },
        "id": "HMAX0vidF77O",
        "outputId": "1871add2-f25a-4c47-cd24-2cfe8dd56768"
      },
      "execution_count": null,
      "outputs": [
        {
          "output_type": "stream",
          "name": "stdout",
          "text": [
            "Média:  3.3333333333333335\n"
          ]
        }
      ]
    },
    {
      "cell_type": "markdown",
      "source": [
        "\n",
        "3. Faça um programa que receba um número inteiro e imprima os números pares de 0 até esse número."
      ],
      "metadata": {
        "id": "46BFtBAMGjlp"
      }
    },
    {
      "cell_type": "code",
      "source": [
        "print(\"Me dê um número\")\n",
        "x = int(input(\": \"))\n",
        "\n",
        "for i in range(0,x + 1,2):\n",
        "  print(i)"
      ],
      "metadata": {
        "colab": {
          "base_uri": "https://localhost:8080/"
        },
        "id": "BBKXKT76GkPy",
        "outputId": "cf95ea36-2b16-459a-978d-bd825aa131f2"
      },
      "execution_count": null,
      "outputs": [
        {
          "output_type": "stream",
          "name": "stdout",
          "text": [
            "Me dê um número\n",
            ": 20\n",
            "0\n",
            "2\n",
            "4\n",
            "6\n",
            "8\n",
            "10\n",
            "12\n",
            "14\n",
            "16\n",
            "18\n",
            "20\n"
          ]
        }
      ]
    },
    {
      "cell_type": "code",
      "source": [],
      "metadata": {
        "id": "-zV8w18MIdKg"
      },
      "execution_count": null,
      "outputs": []
    },
    {
      "cell_type": "markdown",
      "source": [
        "4. Faça um programa que calcule o desconto de 10% em um produto. O programa deve pedir ao usuário que informe o valor do produto e ao final mostre o valor com desconto."
      ],
      "metadata": {
        "id": "MhmMg_Z7HM1z"
      }
    },
    {
      "cell_type": "code",
      "source": [
        "print(\"Parabéns! Você recebeu 10% de desconto! Nos informe o valor\")\n",
        "valor = float(input(\": \"))\n",
        "print(f\"Seu novo valor é: {valor-(valor * 0.10):.2f} R$\")"
      ],
      "metadata": {
        "colab": {
          "base_uri": "https://localhost:8080/"
        },
        "id": "p_uK3NtOHNWS",
        "outputId": "bf13b662-c613-4b52-a323-a46e9c424611"
      },
      "execution_count": null,
      "outputs": [
        {
          "output_type": "stream",
          "name": "stdout",
          "text": [
            "Parabéns! Você recebeu 10% de desconto! Nos informe o valor\n",
            ": 10\n",
            "Seu novo valor é: 9.00 R$\n"
          ]
        }
      ]
    },
    {
      "cell_type": "markdown",
      "source": [
        "5. Faça um programa que imprima a tabuada de um número."
      ],
      "metadata": {
        "id": "3hAHnvLpIXai"
      }
    },
    {
      "cell_type": "code",
      "source": [
        "num = int(input(\"Me dê um número para a tabuada: \"))\n",
        "\n",
        "for i in range(1,11):\n",
        "    print(f\"{num}x{i} = {num * i}\")"
      ],
      "metadata": {
        "colab": {
          "base_uri": "https://localhost:8080/"
        },
        "id": "NgTEJG5RIapy",
        "outputId": "584d9502-0c81-45e9-e3ac-4cf6ff4d83b1"
      },
      "execution_count": null,
      "outputs": [
        {
          "output_type": "stream",
          "name": "stdout",
          "text": [
            "Me dê um número para a tabuada: 5\n",
            "5x1 = 5\n",
            "5x2 = 10\n",
            "5x3 = 15\n",
            "5x4 = 20\n",
            "5x5 = 25\n",
            "5x6 = 30\n",
            "5x7 = 35\n",
            "5x8 = 40\n",
            "5x9 = 45\n",
            "5x10 = 50\n"
          ]
        }
      ]
    },
    {
      "cell_type": "markdown",
      "source": [
        "6.  Faça um programa que receba um número e calcule a soma dos seus dígitos.\n",
        "por exemplo, se o usuario digitar 521, o resultado deve ser: 5+2+1 = 8\n",
        "DICA: quando dividimos um numero por 10 e pegamos o resto, chegamos a unidade, e assim por diante...\n"
      ],
      "metadata": {
        "id": "rmlR2hIrIjoq"
      }
    },
    {
      "cell_type": "code",
      "source": [
        "x = int(input(\"Por favor me dê um número e somarei todos os seus algarismos: \"))\n",
        "if x < 0:\n",
        "  x * -1\n",
        "\n",
        "soma = 0\n",
        "\n",
        "while x > 0:\n",
        "  soma += x % 10\n",
        "  x = (x - (x % 10)) / 10\n",
        "\n",
        "print(\"A soma de todos algorismos é: \",int(soma))\n"
      ],
      "metadata": {
        "colab": {
          "base_uri": "https://localhost:8080/"
        },
        "id": "lXC2mBdtIlXj",
        "outputId": "2b5b7399-d9b6-4733-f542-7fee806a9800"
      },
      "execution_count": null,
      "outputs": [
        {
          "output_type": "stream",
          "name": "stdout",
          "text": [
            "Por favor me dê um número e somarei todos os seus algarismos: 56\n",
            "A soma de todos algorismos é :  11\n"
          ]
        }
      ]
    },
    {
      "cell_type": "markdown",
      "source": [
        "7. Escreva um programa que fique lendo numeros do usuario ate qeu seja digitado zero. Enquanto estiver fazendo a leitura dos números, some todos os numeros pares e multiplique os numeros impares. ao final, mostre os 2 resultados.\n",
        "dica: para acumular resultado de multiplicação, o valor inicial deve ser 1, já que ao multiplicar, não pode zerar o resultado."
      ],
      "metadata": {
        "id": "ZFInzGKKSg45"
      }
    },
    {
      "cell_type": "code",
      "source": [
        "print(\"Me dê números, se o número for par, somarei, se for ímpar, multiplicarei, digite 0 para parar\")\n",
        "x = int(input(\": \"))\n",
        "\n",
        "soma = 0\n",
        "multi = 1\n",
        "\n",
        "while x != 0:\n",
        "  if x % 2 == 0:\n",
        "    soma += x\n",
        "  else:\n",
        "    multi *= x\n",
        "\n",
        "  x = int(input(\": \"))\n",
        "\n",
        "print(\"Valores da soma:\", soma, \", Valores da multiplicação:\", multi)"
      ],
      "metadata": {
        "colab": {
          "base_uri": "https://localhost:8080/"
        },
        "id": "CAMwAKSIS6l5",
        "outputId": "c4161b9a-f807-439c-d75a-de72a369166e"
      },
      "execution_count": null,
      "outputs": [
        {
          "output_type": "stream",
          "name": "stdout",
          "text": [
            "Me dê números, se o número for par, somarei, se for ímpar, multiplicarei, digite 0 para parar\n",
            ": 2\n",
            ": 2\n",
            ": 3\n",
            ": 3\n",
            ": 0\n",
            "Valores da soma: 4 , Valores da multiplicação: 9\n"
          ]
        }
      ]
    },
    {
      "cell_type": "markdown",
      "source": [
        "8. DESAFIO 1: faça um programa que receba uma sequencia de DNA e converta a sequência de DNA em RNA. Lembre que a diferença entre DNA e RNA é que no RNA o T é substituído por U.\n",
        "Podemos usar uma variável para armazenar a sequência de RNA e percorrer a sequência de DNA, substituindo cada \"T\" por \"U\".\n",
        "DICA: utilizando o comando for, você pode percorrer uma string, na forma:\n",
        "\n",
        "\n",
        "```\n",
        "for nucleotide in dna:\n",
        "```\n",
        "\n",
        "assim, cada vez a variavel nucleotide recebe um dos pares de base de sequencia armazenada em dna. Então você testa se é o T, se for, você substitui pelo U.\n",
        "Para juntar as letras novamente na sequencia de RNA, você pode somar, que para string significa concatenar as letras.\n",
        "\n",
        "\n",
        "```\n",
        "seq = \"CC\"\n",
        "seq = seq + \"A\"\n",
        "# o resultado é seq = CCA\n",
        "```"
      ],
      "metadata": {
        "id": "dyWa3l5EU3Rm"
      }
    },
    {
      "cell_type": "code",
      "source": [
        "DNA = input(\"Me dê uma sequência de DNA: \")\n",
        "RNA = \"\"\n",
        "\n",
        "for nucletídeo in DNA:\n",
        "  if nucletídeo == \"T\":\n",
        "    nucletídeo = \"U\"\n",
        "\n",
        "  RNA += nucletídeo\n",
        "\n",
        "print(f\"Esse é o RNA: {RNA}\")"
      ],
      "metadata": {
        "colab": {
          "base_uri": "https://localhost:8080/"
        },
        "id": "_KECSUJNU35u",
        "outputId": "9deed6e5-69ae-4b6b-9422-8ebac6b1f780"
      },
      "execution_count": null,
      "outputs": [
        {
          "output_type": "stream",
          "name": "stdout",
          "text": [
            "Me dê uma sequência de DNA: TABVMUTTTPLMZ\n",
            "Esse é o RNA: UABVMUUUUPLMZ\n"
          ]
        }
      ]
    },
    {
      "cell_type": "markdown",
      "source": [
        "9. DESAFIO 2 : Faça um programa que receba uma sequência de DNA e conte quantas vezes cada nucleotídeo (A, C, G, T) aparece. Utilize a dica de percorrer a sequencia sugerida acima."
      ],
      "metadata": {
        "id": "Ie0q-RiXV9ku"
      }
    },
    {
      "cell_type": "code",
      "source": [
        "DNA = input(\"Me dê uma sequência de DNA: \")\n",
        "contador = {\"A\": 0, \"C\": 0, \"G\": 0, \"T\": 0}\n",
        "\n",
        "for nucletídeo in DNA:\n",
        "  contador[nucletídeo] += 1\n",
        "\n",
        "print(\"Esses é a contagem de Nucletídeo\", contador)"
      ],
      "metadata": {
        "colab": {
          "base_uri": "https://localhost:8080/"
        },
        "id": "KCHRYWZ_WE-u",
        "outputId": "8bf1b014-dc54-4ee6-eb7c-c9578f1cf6b0"
      },
      "execution_count": null,
      "outputs": [
        {
          "output_type": "stream",
          "name": "stdout",
          "text": [
            "Me dê uma sequência de DNA: ACGTTTTACGGAAACC\n",
            "Esses é a contagem de Nucletídeo {'A': 5, 'C': 4, 'G': 3, 'T': 4}\n"
          ]
        }
      ]
    }
  ]
}