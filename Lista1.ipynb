{
  "nbformat": 4,
  "nbformat_minor": 0,
  "metadata": {
    "colab": {
      "provenance": [],
      "authorship_tag": "ABX9TyOmDZL0r2ONJ+wHe+UwwOxp",
      "include_colab_link": true
    },
    "kernelspec": {
      "name": "python3",
      "display_name": "Python 3"
    },
    "language_info": {
      "name": "python"
    }
  },
  "cells": [
    {
      "cell_type": "markdown",
      "metadata": {
        "id": "view-in-github",
        "colab_type": "text"
      },
      "source": [
        "<a href=\"https://colab.research.google.com/github/Gamerquebr/SenacProemTecPYExercicios/blob/main/Lista0.ipynb\" target=\"_parent\"><img src=\"https://colab.research.google.com/assets/colab-badge.svg\" alt=\"Open In Colab\"/></a>"
      ]
    },
    {
      "cell_type": "markdown",
      "source": [
        "1. Escreva um programa que lê dois números e pergunte qual a operação deseja realizar\n",
        "entre eles (use um código com o usuário como: 1=Soma; 2=Subtração;\n",
        "3=Multiplicação; 4=Divisão). Você pode calcular a soma, a subtração, multiplicação e\n",
        "divisão. Realize a operação e mostre o resultado. Tome cuidado com os tipos de dados\n",
        "lidos pelo usuário, faça conversões se necessário usando funções como float() e int().\n",
        "Nesse exercício vamos considerar que apenas números inteiros serão informados pelo\n",
        "usuário."
      ],
      "metadata": {
        "id": "TKwSdNgOfnu-"
      }
    },
    {
      "cell_type": "code",
      "execution_count": null,
      "metadata": {
        "id": "TUjjW-w2fk0R"
      },
      "outputs": [],
      "source": [
        "print(\"Me dê dois números\")\n",
        "\n",
        "x = int(input(\": \"))\n",
        "y = int(input(\": \"))\n",
        "\n",
        "print(\"Muito bem! Agora seleciona que tipo de operação deseja:\\n\" +\n",
        "      \"Digite 1 para Adição\\n\" +\n",
        "      \"Digite 2 para Subtração\\n\" +\n",
        "      \"Digite 3 para Multiplicação\\n\" +\n",
        "      \"Digite 4 para Divisão\")\n",
        "\n",
        "escolha = int(input(\": \"))\n",
        "\n",
        "operadores = {1: eval(\"x+y\"),\n",
        "              2: eval(\"x-y\"),\n",
        "              3: eval(\"x*y\"),\n",
        "              4: eval(\"x/y\")}\n",
        "\n",
        "if escolha not in [1, 2, 3, 4]:\n",
        "    print(\"Operação INVÁLIDA\")\n",
        "else:\n",
        "    print(f\"Esse é o resultado: {operadores[escolha]}\")"
      ]
    },
    {
      "cell_type": "markdown",
      "source": [
        "2. Faça um código que peça ao usuário que informe o nome e idade e imprima a seguinte\n",
        "frase \"nome, você tem idade ano(s)\", onde no local nome você deve imprimir a\n",
        "variável informada pelo usuário para o nome e no local idade da mesma forma,\n",
        "imprimir a idade informada."
      ],
      "metadata": {
        "id": "7Rv31Wynfz0l"
      }
    },
    {
      "cell_type": "code",
      "source": [
        "print(\"Por favor me dê sua idade e nome\")\n",
        "\n",
        "nome = input(\"Me dê seu nome: \")\n",
        "idade = int(input(\"Me dê sua idade: \"))\n",
        "\n",
        "print(f\"{nome}, você tem {idade} ano(s)\")"
      ],
      "metadata": {
        "id": "qOnwd9_kf211"
      },
      "execution_count": null,
      "outputs": []
    },
    {
      "cell_type": "markdown",
      "source": [
        "3. Escreva um código que lê um valor em metros e exiba esse mesmo valor convertido\n",
        "em milímetros."
      ],
      "metadata": {
        "id": "T8d0yCPRgidF"
      }
    },
    {
      "cell_type": "code",
      "source": [
        "print(\"Por favor me dê um valor em metros: \")\n",
        "\n",
        "metro = int(input(\": \"))\n",
        "\n",
        "print(f\"Esse é o mesmo valor em milímetros {metro * 1000}\")"
      ],
      "metadata": {
        "colab": {
          "base_uri": "https://localhost:8080/"
        },
        "id": "rLSkSN7zglel",
        "outputId": "f1339576-651d-4e42-d48d-c01ca933565a"
      },
      "execution_count": null,
      "outputs": [
        {
          "output_type": "stream",
          "name": "stdout",
          "text": [
            "Por favor me dê um valor em metros: \n",
            ": 1\n",
            "Esse é o mesmo valor em milímetros 1000\n"
          ]
        }
      ]
    },
    {
      "cell_type": "markdown",
      "source": [
        "4. Escreva um código que calcula o tempo de uma viagem de carro, perguntando a\n",
        "distância a percorrer (em kilometros) e a velocidade média esperada para a viagem\n",
        "(em km/h). Mostre a resposta em horas.\n"
      ],
      "metadata": {
        "id": "G0GOs8lHhNe0"
      }
    },
    {
      "cell_type": "code",
      "source": [
        "print(\"Irei calcular o tempo da sua viagem de carro\")\n",
        "\n",
        "km = float(input(\"KM que restam: \"))\n",
        "v = float(input(\"Velocidade total km/h: \"))\n",
        "\n",
        "print(f\"Faltam entre {int(km / v)} horas para chegar ao seu destino!\")"
      ],
      "metadata": {
        "colab": {
          "base_uri": "https://localhost:8080/"
        },
        "id": "WpWGcj0hhVAe",
        "outputId": "0d3f18c3-2819-4a38-bbf9-23e850b20b9b"
      },
      "execution_count": null,
      "outputs": [
        {
          "output_type": "stream",
          "name": "stdout",
          "text": [
            "Irei calcular o tempo da sua viagem de carro\n",
            "KM que restam: 56\n",
            "Velocidade total km/h: 3\n",
            "Falta  18 horas para chegar ao seu destino!\n"
          ]
        }
      ]
    },
    {
      "cell_type": "markdown",
      "source": [
        "5. Escreva um programa que converte uma dada temperatura de Farenheit para Celsius.\n",
        "TemperaturaCelsius=(TemperaturaFarenheit−32)÷1,8"
      ],
      "metadata": {
        "id": "xiJKmJwBlH7r"
      }
    },
    {
      "cell_type": "code",
      "source": [
        "print(\"Irei coverter Farenheit para Celsius\")\n",
        "f = float(input(\": \"))\n",
        "c = (f - 32) / 18\n",
        "print(f\"O seu número covertido para Celsius é: {'{:.2f}'.format(c)}C\")"
      ],
      "metadata": {
        "colab": {
          "base_uri": "https://localhost:8080/"
        },
        "id": "tee7-WWMlLZC",
        "outputId": "87681dd8-7f6f-4861-e46a-e6562867c748"
      },
      "execution_count": null,
      "outputs": [
        {
          "output_type": "stream",
          "name": "stdout",
          "text": [
            "Irei coverter Farenheit para Celsius\n",
            ": 100\n",
            "O seu número covertido para Celsius é: 3.78C\n"
          ]
        }
      ]
    },
    {
      "cell_type": "markdown",
      "source": [
        "6. Escreva um código que leia os valores listados a seguir e, ao final, calcule e imprima o\n",
        "preço a pagar pela locação de um veículo.\n",
        "• Quantidade de km percorridos por um locatário de veículo;\n",
        "• Quantidade de dias que permaneceu com o carro alugado;\n",
        "• Valor, em Reais, por dia de locação;\n",
        "• Valor, em Reais, por Km rodado"
      ],
      "metadata": {
        "id": "dAPiQjdamEZL"
      }
    },
    {
      "cell_type": "code",
      "source": [
        "print(\"Irei calcular o valor a pagar pela locação do veículo, digite os valores:\")\n",
        "km_por_locatario = float(input(\"Porfavor me dê quantos km o senhor percorreu usando o carro: \"))\n",
        "dias_com_carro = int(input(\"Me conte quantos dias o senhor permaneceu com o carro: \"))\n",
        "reais_locacao = float(input(\"Valor, em Reais, por dia de locação: \"))\n",
        "reais_km = float(input(\"Valor, em Reais, por Km rodado: \"))\n",
        "\n",
        "total = (km_por_locatario * reais_km) + (dias_com_carro * reais_locacao)\n",
        "print(f\"Esse é o total que o senhor deve pagar: {'{:.2f}'.format(total)} R$\")"
      ],
      "metadata": {
        "colab": {
          "base_uri": "https://localhost:8080/"
        },
        "id": "rpAGrrtfmVaF",
        "outputId": "57b30239-2682-4d31-bbfb-bb8a8cfb331e"
      },
      "execution_count": null,
      "outputs": [
        {
          "output_type": "stream",
          "name": "stdout",
          "text": [
            "Irei calcular o valor a pagar pela locação do veículo, digite os valores:\n",
            "Porfavor me dê quantos km o senhor percorreu usando o carro: 10\n",
            "Me conte quantos dias o senhor permaneceu com o carro: 10\n",
            "Valor, em Reais, por dia de locação: 10\n",
            "Valor, em Reais, por Km rodado: 10\n",
            "Esse é o total que o senhor deve pagar: 200.00 R$\n"
          ]
        }
      ]
    },
    {
      "cell_type": "markdown",
      "source": [
        "7. Faça um programa que receba um valor t referente a uma quantidade total em\n",
        "segundos. Calcule a quantas horas, minutos e segundos a quantidade total de\n",
        "segundos corresponde. Imprima o resultado."
      ],
      "metadata": {
        "id": "MPdBPH12ouND"
      }
    },
    {
      "cell_type": "markdown",
      "source": [
        "Jeito esperto"
      ],
      "metadata": {
        "id": "a_j4YXr3FPZM"
      }
    },
    {
      "cell_type": "code",
      "source": [
        "t = int(input(\"Me dê uma quantidade de segundos: \"))\n",
        "\n",
        "horas = t // 3600\n",
        "minutos = (t % 3600) // 60\n",
        "segundos = (t % 3600) % 60\n",
        "\n",
        "print(f\"{horas} hora(s), {minutos} minuto(s) e {segundos} segundo(s)\")"
      ],
      "metadata": {
        "colab": {
          "base_uri": "https://localhost:8080/"
        },
        "id": "D5iFUwUlCpGM",
        "outputId": "6e8fb1ec-8fa2-40af-eb06-cbcb83910d1a"
      },
      "execution_count": null,
      "outputs": [
        {
          "output_type": "stream",
          "name": "stdout",
          "text": [
            "Me dê uma quantidade de segundos: 3662\n",
            "1 hora(s), 1 minuto(s) e 2 segundo(s)\n"
          ]
        }
      ]
    },
    {
      "cell_type": "markdown",
      "source": [
        "Jeito burro:"
      ],
      "metadata": {
        "id": "ZSMCgX-w3S0f"
      }
    },
    {
      "cell_type": "code",
      "source": [
        "t = int(input(\"Me dê um quantidade de segundos: \"))\n",
        "\n",
        "horas = 0\n",
        "while t >= 3600:\n",
        "  t -= 3600\n",
        "  horas += 1\n",
        "\n",
        "minutos = 0\n",
        "while t >= 60:\n",
        "  t -= 60\n",
        "  minutos += 1\n",
        "\n",
        "segundos = t\n",
        "\n",
        "print(f\"{int(horas)} Hora(s), {int(minutos)} Minutos(s) e {int(segundos)} Segundos(s)\")"
      ],
      "metadata": {
        "colab": {
          "base_uri": "https://localhost:8080/"
        },
        "id": "q9WnbqEZ2bMP",
        "outputId": "c7df10f7-7f35-4b02-f220-d5a70a5e3980"
      },
      "execution_count": null,
      "outputs": [
        {
          "output_type": "stream",
          "name": "stdout",
          "text": [
            "Me dê um quantidade de segundos: 3662\n",
            "1 Hora(s), 1 Minutos(s), 2 Segundos(s)\n"
          ]
        }
      ]
    },
    {
      "cell_type": "markdown",
      "source": [
        "8. Faça um programa que calcule o aumento de um salário. O programa solicita o nome\n",
        "do funcionário, o valor do salário e a porcentagem do aumento. Ao final, imprime uma\n",
        "mensagem \"NOME, o seu salário agora é VALOR_SALARIO_COM_AUMENTO\"."
      ],
      "metadata": {
        "id": "cVPvpehiAcgX"
      }
    },
    {
      "cell_type": "code",
      "source": [
        "print(\"Vou calcular o seu aumento de salário!\")\n",
        "nome = str(input(\"Me dê seu nome: \"))\n",
        "salario = float(input(\"Me dê o seu salário atual: \"))\n",
        "aumento = float(input(\"Me dê a porcentagem do seu aumento: \")) / 100\n",
        "\n",
        "salario_aumento = salario + (salario * aumento)\n",
        "print(f\"{nome}, o seu salário agora é {'{:.2f}'.format(salario_aumento)} R$\")\n",
        "\n"
      ],
      "metadata": {
        "colab": {
          "base_uri": "https://localhost:8080/"
        },
        "id": "Yf-QFD_zAds1",
        "outputId": "eb753328-81fb-40a4-f98c-8f0a88fff255"
      },
      "execution_count": null,
      "outputs": [
        {
          "output_type": "stream",
          "name": "stdout",
          "text": [
            "Vou calcular o seu aumento de salário!\n",
            "Me dê seu nome: jose\n",
            "Me dê o seu salário atual: 1000\n",
            "Me dê a porcentagem do seu aumento: 20\n",
            "jose, o seu salário agora é 1200.00 R$\n"
          ]
        }
      ]
    }
  ]
}
