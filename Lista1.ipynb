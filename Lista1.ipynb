{
  "nbformat": 4,
  "nbformat_minor": 0,
  "metadata": {
    "colab": {
      "provenance": [],
      "authorship_tag": "ABX9TyN0xdeTNR7XC6arqrLYW5Nn",
      "include_colab_link": true
    },
    "kernelspec": {
      "name": "python3",
      "display_name": "Python 3"
    },
    "language_info": {
      "name": "python"
    }
  },
  "cells": [
    {
      "cell_type": "markdown",
      "metadata": {
        "id": "view-in-github",
        "colab_type": "text"
      },
      "source": [
        "<a href=\"https://colab.research.google.com/github/Gamerquebr/SenacProemTecPYExercicios/blob/main/Lista1.ipynb\" target=\"_parent\"><img src=\"https://colab.research.google.com/assets/colab-badge.svg\" alt=\"Open In Colab\"/></a>"
      ]
    },
    {
      "cell_type": "markdown",
      "source": [
        "1. Escreva um algoritmo para ler uma temperatura em graus Fahrenheit, calcular e\n",
        "escrever o valor correspondente em graus Celsius\n",
        "\n",
        "2. Escreva um algoritmo para ler uma temperatura em graus Celsius, calcular e\n",
        "escrever o valor correspondente em graus Fahrenheit"
      ],
      "metadata": {
        "id": "pcUGuZRteby-"
      }
    },
    {
      "cell_type": "code",
      "execution_count": null,
      "metadata": {
        "colab": {
          "base_uri": "https://localhost:8080/"
        },
        "id": "iovihqe-eaE9",
        "outputId": "4950d230-7c02-4005-c174-0aac12528cd3"
      },
      "outputs": [
        {
          "output_type": "stream",
          "name": "stdout",
          "text": [
            "Digite C para celsius, F para Fahrenheit ou K para Kelvin: c\n",
            "Por favor me dê quantos graus está a temperatura: 20\n",
            "Convertendo para Fahrenheit fica: 68.0F\n",
            "Convertendo para Kelvin: 293.15K\n"
          ]
        }
      ],
      "source": [
        "def main():\n",
        "    temperatura = (input('Digite C para celsius, F para Fahrenheit ou K para Kelvin: ')).upper()\n",
        "\n",
        "    graus = float(input(\"Por favor me dê quantos graus está a temperatura: \"))\n",
        "\n",
        "    if temperatura == \"C\":\n",
        "        celsius(graus)\n",
        "    elif temperatura == \"F\":\n",
        "        fahrenheit(graus)\n",
        "    elif temperatura == \"K\":\n",
        "        kelvin(graus)\n",
        "    else:\n",
        "        raise Exception(\"ERRO! Medida incorreta\")\n",
        "\n",
        "def celsius(graus):\n",
        "    print(f\"Convertendo para Fahrenheit fica: {graus * 1.8 + 32}F\")\n",
        "    print(f\"Convertendo para Kelvin: {graus + 273.15}K\")\n",
        "\n",
        "def fahrenheit(graus):\n",
        "    print(f\"Convertendo para Celsius fica: {(graus - 32) / 1.8}C\")\n",
        "    print(f\"Convertendo para Kelvin fica: {(graus + 459.67) * 5 / 9}K\")\n",
        "\n",
        "\n",
        "def kelvin(graus):\n",
        "    print(f\"Convertendo para Celsius fica: {graus - 273.15}C\")\n",
        "    print(f\"Convertendo para Fahrenheit fica: {(graus - 273.15) * 1.8 + 32}F\")\n",
        "\n",
        "\n",
        "if __name__ == \"__main__\":\n",
        "    main()"
      ]
    },
    {
      "cell_type": "markdown",
      "source": [
        "3. Escreva um algoritmo que leia o preço de um produto, sua quantidade e mostre, na\n",
        "tela do computador, o valor total a pagar."
      ],
      "metadata": {
        "id": "latBAJBufBDn"
      }
    },
    {
      "cell_type": "code",
      "source": [
        "print(\"Digite quantas maçãs o senhor comprou: \")\n",
        "quantia = int(input(\": \"))\n",
        "preco = float(input(\"Digite quanto custa uma maçã: \"))\n",
        "valor = 0.0\n",
        "\n",
        "valor = quantia * preco\n",
        "\n",
        "print(\"Esse é o valor total: R$\" + \"{:.2f}\".format(valor))"
      ],
      "metadata": {
        "colab": {
          "base_uri": "https://localhost:8080/"
        },
        "id": "DWWYhPsLfLv2",
        "outputId": "57696b1c-b861-47fd-974d-2954f5a6dd3c"
      },
      "execution_count": null,
      "outputs": [
        {
          "output_type": "stream",
          "name": "stdout",
          "text": [
            "Digite quantas maçãs o senhor comprou: \n",
            ": 5\n",
            "Digite quanto custa uma maçã: 5.00\n",
            "Esse é o valor total: R$25.00\n"
          ]
        }
      ]
    },
    {
      "cell_type": "markdown",
      "source": [
        "4. Escreva um algoritmo para calcular a área de um triângulo, considerando a fórmula:\n",
        "a=(b*h)/2.\n"
      ],
      "metadata": {
        "id": "UDNARp9vgRnd"
      }
    },
    {
      "cell_type": "code",
      "source": [
        "print(\"Irei calcular a área de um triângulo\")\n",
        "\n",
        "base = float(input(\"Me dê o valor da base:\"))\n",
        "altura = float(input(\"Me dê o valor da altura: \"))\n",
        "\n",
        "area = (base * altura) / 2\n",
        "print(f\"Essa é a área do triângulo: {area}\")"
      ],
      "metadata": {
        "id": "rhNvVsAhgSkd"
      },
      "execution_count": null,
      "outputs": []
    },
    {
      "cell_type": "markdown",
      "source": [
        "5. Escreva um algoritmo que leia o nome do cliente e a quantidade de porcas,\n",
        "parafusos e arruelas que ele deseja comprar. Mostre na tela o nome do cliente\n",
        "seguido da quantidade de cada item comprado e o valor a ser pago"
      ],
      "metadata": {
        "id": "e94CkzSNgX8-"
      }
    },
    {
      "cell_type": "code",
      "source": [
        "nome = input(\"Me dê seu nome: \")\n",
        "\n",
        "print(f\"olá {nome}! Digite quantas porcas, arruelas e parafusos deseja!\")\n",
        "\n",
        "parafuso = int(input(\"Parafusos: \"))\n",
        "arruelas = int(input(\"Arruelas: \"))\n",
        "porcas = int(input(\"Porcas: \"))\n",
        "\n",
        "total = (parafuso * 0.50) + (arruelas * 0.60) + (porcas * 0.75)\n",
        "\n",
        "print(f\"Muito bem {nome}! você deseja:\\n\"\n",
        "    f\"{parafuso} parafusos\\n\"\n",
        "    f\"{arruelas} arruelas\\n\"\n",
        "    f\"{porcas} porcas\\n\"\n",
        "    \"Isso dá no total: R$\" + \"{:.2f}\".format(total))\n"
      ],
      "metadata": {
        "id": "U-OQSBzdgbjs"
      },
      "execution_count": null,
      "outputs": []
    },
    {
      "cell_type": "markdown",
      "source": [
        "6. Escreva um algoritmo que leia três notas de um aluno, calcule e escreva a média\n",
        "final deste aluno. Considerar que a média é ponderada e que o peso das notas é 2,\n",
        "3 e 5. Fórmula para o cálculo da média final é:"
      ],
      "metadata": {
        "id": "ipAMfateglaL"
      }
    },
    {
      "cell_type": "code",
      "source": [
        "print(\"Por favor me dê três notas de um aluno: \")\n",
        "n1 = float(input(\": \"))\n",
        "n2 = float(input(\": \"))\n",
        "n3 = float(input(\": \"))\n",
        "\n",
        "média_de_aproveitamento = (n1 * 2 + n2 * 3 + n3 * 5) / 10\n",
        "print(\"Essa é a média do aluno: \" + \"%.1f\" % média_de_aproveitamento)"
      ],
      "metadata": {
        "id": "XLgdKtBbgqWV"
      },
      "execution_count": null,
      "outputs": []
    }
  ]
}